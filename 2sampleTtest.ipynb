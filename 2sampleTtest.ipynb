{
  "nbformat": 4,
  "nbformat_minor": 0,
  "metadata": {
    "colab": {
      "name": "2sampleTtest.ipynb",
      "provenance": []
    },
    "kernelspec": {
      "name": "python3",
      "display_name": "Python 3"
    },
    "language_info": {
      "name": "python"
    }
  },
  "cells": [
    {
      "cell_type": "markdown",
      "source": [
        "## **Hypothesis Testing**"
      ],
      "metadata": {
        "id": "OisAYYTJuMGN"
      }
    },
    {
      "cell_type": "code",
      "source": [
        "#packages\n",
        "import pandas as pd\n",
        "import numpy as np\n",
        "from scipy import stats\n",
        "import statsmodels.api as sm"
      ],
      "metadata": {
        "id": "KxjkbrsLuR5f"
      },
      "execution_count": 70,
      "outputs": []
    },
    {
      "cell_type": "code",
      "source": [
        "import scipy\n",
        "scipy.__version__"
      ],
      "metadata": {
        "colab": {
          "base_uri": "https://localhost:8080/",
          "height": 36
        },
        "id": "61EXSGLlvDp5",
        "outputId": "2c41f4de-88f8-4aa0-9cbd-9ebaf655a279"
      },
      "execution_count": 71,
      "outputs": [
        {
          "output_type": "execute_result",
          "data": {
            "text/plain": [
              "'1.7.3'"
            ],
            "application/vnd.google.colaboratory.intrinsic+json": {
              "type": "string"
            }
          },
          "metadata": {},
          "execution_count": 71
        }
      ]
    },
    {
      "cell_type": "markdown",
      "source": [
        "## **T Test**\n",
        "A t-test is a type of inferential statistic which is used to determine if there is a significant difference between the means of two groups which may be related in certain features\n",
        "\n",
        "T-test has 2 types : 1. one sampled t-test 2. two-sampled t-test."
      ],
      "metadata": {
        "id": "p6kjkdorAF1l"
      }
    },
    {
      "cell_type": "markdown",
      "source": [
        "\n",
        "\n",
        "1.   ttest_1samp - Calculates the T-test for the mean of ONE group of scores.\n",
        "2.   ttest_ind - Calculates the T-test for the means of TWO INDEPENDENT samples of scores. \n",
        "3.   ttest_rel - Calculates the T-test on TWO RELATED samples of scores, a and b.\n",
        "\n",
        "*    Statsmodels is a Python package that allows users to explore data, estimate statistical models, and perform statistical tests. \n",
        "*    All of the statistics functions are located in the sub-package scipy. stats and a fairly complete listing of these functions can be obtained using info(stats) function.\n",
        "\n"
      ],
      "metadata": {
        "id": "eUvHF3JtJx3Q"
      }
    },
    {
      "cell_type": "code",
      "source": [
        "from scipy.stats import ttest_1samp, ttest_ind, ttest_rel"
      ],
      "metadata": {
        "id": "uCCQDLz-J5V9"
      },
      "execution_count": 72,
      "outputs": []
    },
    {
      "cell_type": "markdown",
      "source": [
        "## **Two-sample T-test With Python**\n",
        "The Independent Samples t Test or 2-sample t-test compares the means of two independent groups in order to determine whether there is statistical evidence that the associated population means are significantly different. The Independent Samples t Test is a parametric test. This test is also known as: Independent t Test\n",
        "\n"
      ],
      "metadata": {
        "id": "ngYc4epQQx1p"
      }
    },
    {
      "cell_type": "markdown",
      "source": [
        "![image.png](data:image/png;base64,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)"
      ],
      "metadata": {
        "id": "jLEa5T48Q-DZ"
      }
    },
    {
      "cell_type": "markdown",
      "source": [
        "**Here we are comparing the Ages of Class A and Class B students, two individual groups.**"
      ],
      "metadata": {
        "id": "pcqmkJnoWiG4"
      }
    },
    {
      "cell_type": "code",
      "source": [
        "import numpy as np\n",
        "import pandas as pd\n",
        "import scipy.stats as stats\n",
        "import math\n",
        "np.random.seed(6)\n",
        "\n",
        "\n",
        "#for class A loc=18 indicates the class students age starting from 18\n",
        "#mean age of Class A students is mu=30 \n",
        "# and the size of Class A =60\n",
        "\n",
        "classA_ages=stats.poisson.rvs(loc=18,mu=30,size=60)"
      ],
      "metadata": {
        "id": "pYb0BAfXAwR4"
      },
      "execution_count": 73,
      "outputs": []
    },
    {
      "cell_type": "code",
      "source": [
        "classA_ages.mean()"
      ],
      "metadata": {
        "id": "S7z4dNRTAwYf",
        "colab": {
          "base_uri": "https://localhost:8080/"
        },
        "outputId": "2ea39520-e47a-4ad3-9a59-133423921f1d"
      },
      "execution_count": 74,
      "outputs": [
        {
          "output_type": "execute_result",
          "data": {
            "text/plain": [
              "48.016666666666666"
            ]
          },
          "metadata": {},
          "execution_count": 74
        }
      ]
    },
    {
      "cell_type": "code",
      "source": [
        "#to comapre the age of Class A and class B, here we take Class B as another group\n",
        "\n",
        "#for class b loc=18 indicates the class students age starting from 18\n",
        "#mean age of Class B students is mu=33 \n",
        "# and the size of Class A =60\n",
        "np.random.seed(12)\n",
        "ClassB_ages=stats.poisson.rvs(loc=18,mu=33,size=60)\n",
        "ClassB_ages.mean()"
      ],
      "metadata": {
        "colab": {
          "base_uri": "https://localhost:8080/"
        },
        "id": "NWBHdQscRF0X",
        "outputId": "3998d4b6-98f1-4b63-ea7a-567c2f46d72b"
      },
      "execution_count": 75,
      "outputs": [
        {
          "output_type": "execute_result",
          "data": {
            "text/plain": [
              "50.63333333333333"
            ]
          },
          "metadata": {},
          "execution_count": 75
        }
      ]
    },
    {
      "cell_type": "code",
      "source": [
        "#here we use ttest_ind to get the result\n",
        "\n",
        "_,p_value=stats.ttest_ind(a=classA_ages,b=ClassB_ages,equal_var=False)"
      ],
      "metadata": {
        "id": "DYnFFea4RNCP"
      },
      "execution_count": 76,
      "outputs": []
    },
    {
      "cell_type": "code",
      "source": [
        "if p_value < 0.05:  \n",
        "    print(\" we are rejecting null hypothesis\")\n",
        "else:\n",
        "    print(\"we are accepting null hypothesis\")"
      ],
      "metadata": {
        "colab": {
          "base_uri": "https://localhost:8080/"
        },
        "id": "EWWfnG1WRNNb",
        "outputId": "af188adb-4379-4efa-eb76-9d54850fe445"
      },
      "execution_count": 77,
      "outputs": [
        {
          "output_type": "stream",
          "name": "stdout",
          "text": [
            " we are rejecting null hypothesis\n"
          ]
        }
      ]
    }
  ]
}