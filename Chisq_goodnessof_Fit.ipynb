{
  "nbformat": 4,
  "nbformat_minor": 0,
  "metadata": {
    "colab": {
      "name": "Chisq_goodnessof_Fit.ipynb",
      "provenance": [],
      "collapsed_sections": []
    },
    "kernelspec": {
      "name": "python3",
      "display_name": "Python 3"
    },
    "language_info": {
      "name": "python"
    }
  },
  "cells": [
    {
      "cell_type": "markdown",
      "source": [
        "## **Chisquare Goodness of Fit**"
      ],
      "metadata": {
        "id": "83pxRm8p5qNq"
      }
    },
    {
      "cell_type": "markdown",
      "source": [
        "A shop owner claims that an equal number of customers come into his shop each weekday. To test this hypothesis, a researcher records the number of customers that come into the shop in a given week and finds the following:\n",
        "\n",
        "Monday: 50 customers\\\n",
        "Tuesday: 60 customers\\\n",
        "Wednesday: 40 customers\\\n",
        "Thursday: 47 customers\\\n",
        "Friday: 53 customers"
      ],
      "metadata": {
        "id": "6UJJJKyT2mx7"
      }
    },
    {
      "cell_type": "markdown",
      "source": [
        "Ho : there is no significant difference\\\n",
        "H1 : There is Significant difference"
      ],
      "metadata": {
        "id": "TatNaFsb36L5"
      }
    },
    {
      "cell_type": "code",
      "source": [
        "expected = [50, 50, 50, 50, 50]\n",
        "observed = [50, 60, 40, 47, 53]"
      ],
      "metadata": {
        "id": "plrKp8b22hSS"
      },
      "execution_count": 16,
      "outputs": []
    },
    {
      "cell_type": "code",
      "source": [
        "import scipy.stats as stats\n",
        "\n",
        "#perform Chi-Square Goodness of Fit Test\n",
        "stats.chisquare(f_obs=observed, f_exp=expected)\n"
      ],
      "metadata": {
        "id": "yCKKkoCc267h",
        "colab": {
          "base_uri": "https://localhost:8080/"
        },
        "outputId": "6f32ed6e-3bbc-46e5-b3e6-b18240b7344e"
      },
      "execution_count": 17,
      "outputs": [
        {
          "output_type": "execute_result",
          "data": {
            "text/plain": [
              "Power_divergenceResult(statistic=4.359999999999999, pvalue=0.3594720674366307)"
            ]
          },
          "metadata": {},
          "execution_count": 17
        }
      ]
    },
    {
      "cell_type": "markdown",
      "source": [
        "since p value > 0.05, Accept Ho, which means there is no significant difference "
      ],
      "metadata": {
        "id": "-Iu0w03H4GFS"
      }
    }
  ]
}