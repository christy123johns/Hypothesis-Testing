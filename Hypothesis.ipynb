{
  "nbformat": 4,
  "nbformat_minor": 0,
  "metadata": {
    "colab": {
      "name": "Hypothesis.ipynb",
      "provenance": []
    },
    "kernelspec": {
      "name": "python3",
      "display_name": "Python 3"
    },
    "language_info": {
      "name": "python"
    }
  },
  "cells": [
    {
      "cell_type": "markdown",
      "source": [
        "## **Hypothesis Testing**"
      ],
      "metadata": {
        "id": "OisAYYTJuMGN"
      }
    },
    {
      "cell_type": "code",
      "source": [
        "#packages\n",
        "import pandas as pd\n",
        "import numpy as np\n",
        "from scipy import stats\n",
        "import statsmodels.api as sm"
      ],
      "metadata": {
        "id": "KxjkbrsLuR5f"
      },
      "execution_count": 738,
      "outputs": []
    },
    {
      "cell_type": "code",
      "source": [
        "import scipy\n",
        "scipy.__version__"
      ],
      "metadata": {
        "colab": {
          "base_uri": "https://localhost:8080/",
          "height": 36
        },
        "id": "61EXSGLlvDp5",
        "outputId": "3b7e7adb-4dd4-4522-d92d-777343633922"
      },
      "execution_count": 739,
      "outputs": [
        {
          "output_type": "execute_result",
          "data": {
            "text/plain": [
              "'1.7.3'"
            ],
            "application/vnd.google.colaboratory.intrinsic+json": {
              "type": "string"
            }
          },
          "metadata": {},
          "execution_count": 739
        }
      ]
    },
    {
      "cell_type": "markdown",
      "source": [
        "## **Chi-Square Test-**\n",
        "The test is applied when you have two categorical variables from a single population. It is used to determine whether there is a significant association between the two categorical variables.\n"
      ],
      "metadata": {
        "id": "44I4nWJl2zWM"
      }
    },
    {
      "cell_type": "code",
      "source": [
        "import scipy.stats as stats\n",
        "import seaborn as sns\n",
        "dataset=sns.load_dataset('tips')\n",
        "dataset.head()"
      ],
      "metadata": {
        "colab": {
          "base_uri": "https://localhost:8080/",
          "height": 206
        },
        "id": "5s2S_8QT2wv7",
        "outputId": "a2dedd14-75af-411d-cfae-1a303b7f2e65"
      },
      "execution_count": 740,
      "outputs": [
        {
          "output_type": "execute_result",
          "data": {
            "text/plain": [
              "   total_bill   tip     sex smoker  day    time  size\n",
              "0       16.99  1.01  Female     No  Sun  Dinner     2\n",
              "1       10.34  1.66    Male     No  Sun  Dinner     3\n",
              "2       21.01  3.50    Male     No  Sun  Dinner     3\n",
              "3       23.68  3.31    Male     No  Sun  Dinner     2\n",
              "4       24.59  3.61  Female     No  Sun  Dinner     4"
            ],
            "text/html": [
              "\n",
              "  <div id=\"df-05c6c976-8085-4725-9102-88705161f550\">\n",
              "    <div class=\"colab-df-container\">\n",
              "      <div>\n",
              "<style scoped>\n",
              "    .dataframe tbody tr th:only-of-type {\n",
              "        vertical-align: middle;\n",
              "    }\n",
              "\n",
              "    .dataframe tbody tr th {\n",
              "        vertical-align: top;\n",
              "    }\n",
              "\n",
              "    .dataframe thead th {\n",
              "        text-align: right;\n",
              "    }\n",
              "</style>\n",
              "<table border=\"1\" class=\"dataframe\">\n",
              "  <thead>\n",
              "    <tr style=\"text-align: right;\">\n",
              "      <th></th>\n",
              "      <th>total_bill</th>\n",
              "      <th>tip</th>\n",
              "      <th>sex</th>\n",
              "      <th>smoker</th>\n",
              "      <th>day</th>\n",
              "      <th>time</th>\n",
              "      <th>size</th>\n",
              "    </tr>\n",
              "  </thead>\n",
              "  <tbody>\n",
              "    <tr>\n",
              "      <th>0</th>\n",
              "      <td>16.99</td>\n",
              "      <td>1.01</td>\n",
              "      <td>Female</td>\n",
              "      <td>No</td>\n",
              "      <td>Sun</td>\n",
              "      <td>Dinner</td>\n",
              "      <td>2</td>\n",
              "    </tr>\n",
              "    <tr>\n",
              "      <th>1</th>\n",
              "      <td>10.34</td>\n",
              "      <td>1.66</td>\n",
              "      <td>Male</td>\n",
              "      <td>No</td>\n",
              "      <td>Sun</td>\n",
              "      <td>Dinner</td>\n",
              "      <td>3</td>\n",
              "    </tr>\n",
              "    <tr>\n",
              "      <th>2</th>\n",
              "      <td>21.01</td>\n",
              "      <td>3.50</td>\n",
              "      <td>Male</td>\n",
              "      <td>No</td>\n",
              "      <td>Sun</td>\n",
              "      <td>Dinner</td>\n",
              "      <td>3</td>\n",
              "    </tr>\n",
              "    <tr>\n",
              "      <th>3</th>\n",
              "      <td>23.68</td>\n",
              "      <td>3.31</td>\n",
              "      <td>Male</td>\n",
              "      <td>No</td>\n",
              "      <td>Sun</td>\n",
              "      <td>Dinner</td>\n",
              "      <td>2</td>\n",
              "    </tr>\n",
              "    <tr>\n",
              "      <th>4</th>\n",
              "      <td>24.59</td>\n",
              "      <td>3.61</td>\n",
              "      <td>Female</td>\n",
              "      <td>No</td>\n",
              "      <td>Sun</td>\n",
              "      <td>Dinner</td>\n",
              "      <td>4</td>\n",
              "    </tr>\n",
              "  </tbody>\n",
              "</table>\n",
              "</div>\n",
              "      <button class=\"colab-df-convert\" onclick=\"convertToInteractive('df-05c6c976-8085-4725-9102-88705161f550')\"\n",
              "              title=\"Convert this dataframe to an interactive table.\"\n",
              "              style=\"display:none;\">\n",
              "        \n",
              "  <svg xmlns=\"http://www.w3.org/2000/svg\" height=\"24px\"viewBox=\"0 0 24 24\"\n",
              "       width=\"24px\">\n",
              "    <path d=\"M0 0h24v24H0V0z\" fill=\"none\"/>\n",
              "    <path d=\"M18.56 5.44l.94 2.06.94-2.06 2.06-.94-2.06-.94-.94-2.06-.94 2.06-2.06.94zm-11 1L8.5 8.5l.94-2.06 2.06-.94-2.06-.94L8.5 2.5l-.94 2.06-2.06.94zm10 10l.94 2.06.94-2.06 2.06-.94-2.06-.94-.94-2.06-.94 2.06-2.06.94z\"/><path d=\"M17.41 7.96l-1.37-1.37c-.4-.4-.92-.59-1.43-.59-.52 0-1.04.2-1.43.59L10.3 9.45l-7.72 7.72c-.78.78-.78 2.05 0 2.83L4 21.41c.39.39.9.59 1.41.59.51 0 1.02-.2 1.41-.59l7.78-7.78 2.81-2.81c.8-.78.8-2.07 0-2.86zM5.41 20L4 18.59l7.72-7.72 1.47 1.35L5.41 20z\"/>\n",
              "  </svg>\n",
              "      </button>\n",
              "      \n",
              "  <style>\n",
              "    .colab-df-container {\n",
              "      display:flex;\n",
              "      flex-wrap:wrap;\n",
              "      gap: 12px;\n",
              "    }\n",
              "\n",
              "    .colab-df-convert {\n",
              "      background-color: #E8F0FE;\n",
              "      border: none;\n",
              "      border-radius: 50%;\n",
              "      cursor: pointer;\n",
              "      display: none;\n",
              "      fill: #1967D2;\n",
              "      height: 32px;\n",
              "      padding: 0 0 0 0;\n",
              "      width: 32px;\n",
              "    }\n",
              "\n",
              "    .colab-df-convert:hover {\n",
              "      background-color: #E2EBFA;\n",
              "      box-shadow: 0px 1px 2px rgba(60, 64, 67, 0.3), 0px 1px 3px 1px rgba(60, 64, 67, 0.15);\n",
              "      fill: #174EA6;\n",
              "    }\n",
              "\n",
              "    [theme=dark] .colab-df-convert {\n",
              "      background-color: #3B4455;\n",
              "      fill: #D2E3FC;\n",
              "    }\n",
              "\n",
              "    [theme=dark] .colab-df-convert:hover {\n",
              "      background-color: #434B5C;\n",
              "      box-shadow: 0px 1px 3px 1px rgba(0, 0, 0, 0.15);\n",
              "      filter: drop-shadow(0px 1px 2px rgba(0, 0, 0, 0.3));\n",
              "      fill: #FFFFFF;\n",
              "    }\n",
              "  </style>\n",
              "\n",
              "      <script>\n",
              "        const buttonEl =\n",
              "          document.querySelector('#df-05c6c976-8085-4725-9102-88705161f550 button.colab-df-convert');\n",
              "        buttonEl.style.display =\n",
              "          google.colab.kernel.accessAllowed ? 'block' : 'none';\n",
              "\n",
              "        async function convertToInteractive(key) {\n",
              "          const element = document.querySelector('#df-05c6c976-8085-4725-9102-88705161f550');\n",
              "          const dataTable =\n",
              "            await google.colab.kernel.invokeFunction('convertToInteractive',\n",
              "                                                     [key], {});\n",
              "          if (!dataTable) return;\n",
              "\n",
              "          const docLinkHtml = 'Like what you see? Visit the ' +\n",
              "            '<a target=\"_blank\" href=https://colab.research.google.com/notebooks/data_table.ipynb>data table notebook</a>'\n",
              "            + ' to learn more about interactive tables.';\n",
              "          element.innerHTML = '';\n",
              "          dataTable['output_type'] = 'display_data';\n",
              "          await google.colab.output.renderOutput(dataTable, element);\n",
              "          const docLink = document.createElement('div');\n",
              "          docLink.innerHTML = docLinkHtml;\n",
              "          element.appendChild(docLink);\n",
              "        }\n",
              "      </script>\n",
              "    </div>\n",
              "  </div>\n",
              "  "
            ]
          },
          "metadata": {},
          "execution_count": 740
        }
      ]
    },
    {
      "cell_type": "code",
      "source": [
        "dataset_table=pd.crosstab(dataset['sex'],dataset['smoker'])\n",
        "print(dataset_table)\n",
        "# crosstab shows the data in a matrix format"
      ],
      "metadata": {
        "colab": {
          "base_uri": "https://localhost:8080/"
        },
        "id": "-35ybUTX288J",
        "outputId": "ad63c173-8b6a-4556-bdcf-bbd5d2f438eb"
      },
      "execution_count": 741,
      "outputs": [
        {
          "output_type": "stream",
          "name": "stdout",
          "text": [
            "smoker  Yes  No\n",
            "sex            \n",
            "Male     60  97\n",
            "Female   33  54\n"
          ]
        }
      ]
    },
    {
      "cell_type": "code",
      "source": [
        "dataset_table"
      ],
      "metadata": {
        "colab": {
          "base_uri": "https://localhost:8080/",
          "height": 143
        },
        "id": "3vrg8UrG3bnl",
        "outputId": "33d18631-aeb2-4849-f1ee-a7c16b084bdb"
      },
      "execution_count": 742,
      "outputs": [
        {
          "output_type": "execute_result",
          "data": {
            "text/plain": [
              "smoker  Yes  No\n",
              "sex            \n",
              "Male     60  97\n",
              "Female   33  54"
            ],
            "text/html": [
              "\n",
              "  <div id=\"df-5450ed19-2e91-4789-83cd-f58150968604\">\n",
              "    <div class=\"colab-df-container\">\n",
              "      <div>\n",
              "<style scoped>\n",
              "    .dataframe tbody tr th:only-of-type {\n",
              "        vertical-align: middle;\n",
              "    }\n",
              "\n",
              "    .dataframe tbody tr th {\n",
              "        vertical-align: top;\n",
              "    }\n",
              "\n",
              "    .dataframe thead th {\n",
              "        text-align: right;\n",
              "    }\n",
              "</style>\n",
              "<table border=\"1\" class=\"dataframe\">\n",
              "  <thead>\n",
              "    <tr style=\"text-align: right;\">\n",
              "      <th>smoker</th>\n",
              "      <th>Yes</th>\n",
              "      <th>No</th>\n",
              "    </tr>\n",
              "    <tr>\n",
              "      <th>sex</th>\n",
              "      <th></th>\n",
              "      <th></th>\n",
              "    </tr>\n",
              "  </thead>\n",
              "  <tbody>\n",
              "    <tr>\n",
              "      <th>Male</th>\n",
              "      <td>60</td>\n",
              "      <td>97</td>\n",
              "    </tr>\n",
              "    <tr>\n",
              "      <th>Female</th>\n",
              "      <td>33</td>\n",
              "      <td>54</td>\n",
              "    </tr>\n",
              "  </tbody>\n",
              "</table>\n",
              "</div>\n",
              "      <button class=\"colab-df-convert\" onclick=\"convertToInteractive('df-5450ed19-2e91-4789-83cd-f58150968604')\"\n",
              "              title=\"Convert this dataframe to an interactive table.\"\n",
              "              style=\"display:none;\">\n",
              "        \n",
              "  <svg xmlns=\"http://www.w3.org/2000/svg\" height=\"24px\"viewBox=\"0 0 24 24\"\n",
              "       width=\"24px\">\n",
              "    <path d=\"M0 0h24v24H0V0z\" fill=\"none\"/>\n",
              "    <path d=\"M18.56 5.44l.94 2.06.94-2.06 2.06-.94-2.06-.94-.94-2.06-.94 2.06-2.06.94zm-11 1L8.5 8.5l.94-2.06 2.06-.94-2.06-.94L8.5 2.5l-.94 2.06-2.06.94zm10 10l.94 2.06.94-2.06 2.06-.94-2.06-.94-.94-2.06-.94 2.06-2.06.94z\"/><path d=\"M17.41 7.96l-1.37-1.37c-.4-.4-.92-.59-1.43-.59-.52 0-1.04.2-1.43.59L10.3 9.45l-7.72 7.72c-.78.78-.78 2.05 0 2.83L4 21.41c.39.39.9.59 1.41.59.51 0 1.02-.2 1.41-.59l7.78-7.78 2.81-2.81c.8-.78.8-2.07 0-2.86zM5.41 20L4 18.59l7.72-7.72 1.47 1.35L5.41 20z\"/>\n",
              "  </svg>\n",
              "      </button>\n",
              "      \n",
              "  <style>\n",
              "    .colab-df-container {\n",
              "      display:flex;\n",
              "      flex-wrap:wrap;\n",
              "      gap: 12px;\n",
              "    }\n",
              "\n",
              "    .colab-df-convert {\n",
              "      background-color: #E8F0FE;\n",
              "      border: none;\n",
              "      border-radius: 50%;\n",
              "      cursor: pointer;\n",
              "      display: none;\n",
              "      fill: #1967D2;\n",
              "      height: 32px;\n",
              "      padding: 0 0 0 0;\n",
              "      width: 32px;\n",
              "    }\n",
              "\n",
              "    .colab-df-convert:hover {\n",
              "      background-color: #E2EBFA;\n",
              "      box-shadow: 0px 1px 2px rgba(60, 64, 67, 0.3), 0px 1px 3px 1px rgba(60, 64, 67, 0.15);\n",
              "      fill: #174EA6;\n",
              "    }\n",
              "\n",
              "    [theme=dark] .colab-df-convert {\n",
              "      background-color: #3B4455;\n",
              "      fill: #D2E3FC;\n",
              "    }\n",
              "\n",
              "    [theme=dark] .colab-df-convert:hover {\n",
              "      background-color: #434B5C;\n",
              "      box-shadow: 0px 1px 3px 1px rgba(0, 0, 0, 0.15);\n",
              "      filter: drop-shadow(0px 1px 2px rgba(0, 0, 0, 0.3));\n",
              "      fill: #FFFFFF;\n",
              "    }\n",
              "  </style>\n",
              "\n",
              "      <script>\n",
              "        const buttonEl =\n",
              "          document.querySelector('#df-5450ed19-2e91-4789-83cd-f58150968604 button.colab-df-convert');\n",
              "        buttonEl.style.display =\n",
              "          google.colab.kernel.accessAllowed ? 'block' : 'none';\n",
              "\n",
              "        async function convertToInteractive(key) {\n",
              "          const element = document.querySelector('#df-5450ed19-2e91-4789-83cd-f58150968604');\n",
              "          const dataTable =\n",
              "            await google.colab.kernel.invokeFunction('convertToInteractive',\n",
              "                                                     [key], {});\n",
              "          if (!dataTable) return;\n",
              "\n",
              "          const docLinkHtml = 'Like what you see? Visit the ' +\n",
              "            '<a target=\"_blank\" href=https://colab.research.google.com/notebooks/data_table.ipynb>data table notebook</a>'\n",
              "            + ' to learn more about interactive tables.';\n",
              "          element.innerHTML = '';\n",
              "          dataTable['output_type'] = 'display_data';\n",
              "          await google.colab.output.renderOutput(dataTable, element);\n",
              "          const docLink = document.createElement('div');\n",
              "          docLink.innerHTML = docLinkHtml;\n",
              "          element.appendChild(docLink);\n",
              "        }\n",
              "      </script>\n",
              "    </div>\n",
              "  </div>\n",
              "  "
            ]
          },
          "metadata": {},
          "execution_count": 742
        }
      ]
    },
    {
      "cell_type": "code",
      "source": [
        "dataset_table.values \n"
      ],
      "metadata": {
        "colab": {
          "base_uri": "https://localhost:8080/"
        },
        "id": "JcJsAEG53jcU",
        "outputId": "962cc0b8-6948-48ed-ca10-f51bd86537cf"
      },
      "execution_count": 743,
      "outputs": [
        {
          "output_type": "execute_result",
          "data": {
            "text/plain": [
              "array([[60, 97],\n",
              "       [33, 54]])"
            ]
          },
          "metadata": {},
          "execution_count": 743
        }
      ]
    },
    {
      "cell_type": "code",
      "source": [
        "#Observed Values\n",
        "Observed_Values = dataset_table.values \n",
        "print(\"Observed Values :-\\n\",Observed_Values)"
      ],
      "metadata": {
        "colab": {
          "base_uri": "https://localhost:8080/"
        },
        "id": "PQIIsVUz3oGX",
        "outputId": "028f1f93-0506-4061-d31f-444c2e88473b"
      },
      "execution_count": 744,
      "outputs": [
        {
          "output_type": "stream",
          "name": "stdout",
          "text": [
            "Observed Values :-\n",
            " [[60 97]\n",
            " [33 54]]\n"
          ]
        }
      ]
    },
    {
      "cell_type": "code",
      "source": [
        "val=stats.chi2_contingency(dataset_table)\n",
        "val\n",
        "#here inside the brackets we have expected values "
      ],
      "metadata": {
        "colab": {
          "base_uri": "https://localhost:8080/"
        },
        "id": "KW0f_oIZ3xJD",
        "outputId": "0098efef-13bd-4bf8-c454-563eaba33aa4"
      },
      "execution_count": 745,
      "outputs": [
        {
          "output_type": "execute_result",
          "data": {
            "text/plain": [
              "(0.0, 1.0, 1, array([[59.84016393, 97.15983607],\n",
              "        [33.15983607, 53.84016393]]))"
            ]
          },
          "metadata": {},
          "execution_count": 745
        }
      ]
    },
    {
      "cell_type": "code",
      "source": [
        "val[1]"
      ],
      "metadata": {
        "colab": {
          "base_uri": "https://localhost:8080/"
        },
        "id": "iTM9FqiR4iTH",
        "outputId": "de0f5330-25cc-4b2f-a443-bc97f4a4f0e0"
      },
      "execution_count": 746,
      "outputs": [
        {
          "output_type": "execute_result",
          "data": {
            "text/plain": [
              "1.0"
            ]
          },
          "metadata": {},
          "execution_count": 746
        }
      ]
    },
    {
      "cell_type": "code",
      "source": [
        "val[3]"
      ],
      "metadata": {
        "colab": {
          "base_uri": "https://localhost:8080/"
        },
        "id": "opf9DYPC4NiN",
        "outputId": "01700233-7837-4c35-c5d7-4daf75bc234e"
      },
      "execution_count": 747,
      "outputs": [
        {
          "output_type": "execute_result",
          "data": {
            "text/plain": [
              "array([[59.84016393, 97.15983607],\n",
              "       [33.15983607, 53.84016393]])"
            ]
          },
          "metadata": {},
          "execution_count": 747
        }
      ]
    },
    {
      "cell_type": "code",
      "source": [
        "Expected_Values=val[3]\n",
        "Expected_Values"
      ],
      "metadata": {
        "colab": {
          "base_uri": "https://localhost:8080/"
        },
        "id": "JRnhL1JH4GKe",
        "outputId": "d1153d92-db28-41c0-d388-19341490ef61"
      },
      "execution_count": 748,
      "outputs": [
        {
          "output_type": "execute_result",
          "data": {
            "text/plain": [
              "array([[59.84016393, 97.15983607],\n",
              "       [33.15983607, 53.84016393]])"
            ]
          },
          "metadata": {},
          "execution_count": 748
        }
      ]
    },
    {
      "cell_type": "code",
      "source": [
        "no_of_rows=len(dataset_table.iloc[0:2,0])\n",
        "no_of_rows\n",
        "#this shows the number of rows in the matrix dataset_table"
      ],
      "metadata": {
        "colab": {
          "base_uri": "https://localhost:8080/"
        },
        "id": "lA7yfsbH4vAI",
        "outputId": "f527d099-c4a8-453e-8f3b-6a0f46e6b693"
      },
      "execution_count": 749,
      "outputs": [
        {
          "output_type": "execute_result",
          "data": {
            "text/plain": [
              "2"
            ]
          },
          "metadata": {},
          "execution_count": 749
        }
      ]
    },
    {
      "cell_type": "code",
      "source": [
        "no_of_columns=len(dataset_table.iloc[0,0:2])\n",
        "no_of_columns\n",
        "#this shows the number of columns in the matrix dataset_table"
      ],
      "metadata": {
        "colab": {
          "base_uri": "https://localhost:8080/"
        },
        "id": "VZDhQPWQ4y0t",
        "outputId": "db55d3ab-d93c-4aeb-c842-b95533762d5a"
      },
      "execution_count": 750,
      "outputs": [
        {
          "output_type": "execute_result",
          "data": {
            "text/plain": [
              "2"
            ]
          },
          "metadata": {},
          "execution_count": 750
        }
      ]
    },
    {
      "cell_type": "code",
      "source": [
        "ddof=(no_of_rows-1)*(no_of_columns-1)\n",
        "ddof\n",
        "#calculating degrees of freedom"
      ],
      "metadata": {
        "colab": {
          "base_uri": "https://localhost:8080/"
        },
        "id": "LOhsCCEk45iI",
        "outputId": "d91a3bc4-453b-461c-f5c5-70d1f6cca1f8"
      },
      "execution_count": 751,
      "outputs": [
        {
          "output_type": "execute_result",
          "data": {
            "text/plain": [
              "1"
            ]
          },
          "metadata": {},
          "execution_count": 751
        }
      ]
    },
    {
      "cell_type": "code",
      "source": [
        "print(\"Degree of Freedom:-\",ddof)\n",
        "alpha = 0.05"
      ],
      "metadata": {
        "colab": {
          "base_uri": "https://localhost:8080/"
        },
        "id": "oGyhAh-p5Dnc",
        "outputId": "9f240f08-8e4e-438a-a496-667022d376c5"
      },
      "execution_count": 752,
      "outputs": [
        {
          "output_type": "stream",
          "name": "stdout",
          "text": [
            "Degree of Freedom:- 1\n"
          ]
        }
      ]
    },
    {
      "cell_type": "code",
      "source": [
        "from scipy.stats import chi2\n",
        "chi_square=sum([(o-e)**2./e for o,e in zip(Observed_Values,Expected_Values)])\n",
        "chi_square_statistic=chi_square[0]+chi_square[1]\n",
        "#in this equation the observed values and expected values are zipping here.\n",
        "#zipping, because the observed and and expected values are now in a 2*2 matrix format"
      ],
      "metadata": {
        "id": "nbVGwUQp5XPl"
      },
      "execution_count": 753,
      "outputs": []
    },
    {
      "cell_type": "code",
      "source": [
        "chi_square\n",
        "#after doing the chisq equation using 2*2 matrix we will again get a 2 rows \n",
        "#thise 2 rows are adding up to get the chi_sq_statistic"
      ],
      "metadata": {
        "colab": {
          "base_uri": "https://localhost:8080/"
        },
        "id": "giDj4k_r5e0n",
        "outputId": "43ab127b-2723-441e-94e2-0cf092f87195"
      },
      "execution_count": 754,
      "outputs": [
        {
          "output_type": "execute_result",
          "data": {
            "text/plain": [
              "array([0.00119737, 0.00073745])"
            ]
          },
          "metadata": {},
          "execution_count": 754
        }
      ]
    },
    {
      "cell_type": "code",
      "source": [
        "print(\"chi-square statistic:-\",chi_square_statistic)"
      ],
      "metadata": {
        "colab": {
          "base_uri": "https://localhost:8080/"
        },
        "id": "ELEaRuGT5a6D",
        "outputId": "56468f14-79f5-4253-9694-d8a6c5081264"
      },
      "execution_count": 755,
      "outputs": [
        {
          "output_type": "stream",
          "name": "stdout",
          "text": [
            "chi-square statistic:- 0.001934818536627623\n"
          ]
        }
      ]
    },
    {
      "cell_type": "code",
      "source": [
        "critical_value=chi2.ppf(q=1-alpha,df=ddof)\n",
        "print('critical_value:',critical_value)\n",
        "#ppf is percent point function, it is the inverse of cdf(cumulative density fuction)\n",
        "#here we need to assign a p and q value. \n",
        "#p value is alpha, q=1-p = 1-alpha"
      ],
      "metadata": {
        "colab": {
          "base_uri": "https://localhost:8080/"
        },
        "id": "G-2WpNO55bEB",
        "outputId": "6afc5e31-a979-4ecc-f930-a99327e3a80a"
      },
      "execution_count": 756,
      "outputs": [
        {
          "output_type": "stream",
          "name": "stdout",
          "text": [
            "critical_value: 3.841458820694124\n"
          ]
        }
      ]
    },
    {
      "cell_type": "markdown",
      "source": [
        "from chi -square statistic and critical value we can find solution for the test\\\n",
        "if chi_square_statistic >= critical_value we Reject Ho and\\\n",
        "chi_square_statistic < critical_value we Accept Ho  "
      ],
      "metadata": {
        "id": "W49tnJzpOVzS"
      }
    },
    {
      "cell_type": "code",
      "source": [
        "#p-value\n",
        "p_value=1-chi2.cdf(x=chi_square_statistic,df=ddof)\n",
        "print('p-value:',p_value)\n",
        "print('Significance level: ',alpha)\n",
        "print('Degree of Freedom: ',ddof)\n",
        "print('p-value:',p_value)\n",
        "#for calculating chisq we use chisq.cdf, just opposite of ppf, cdf=cumulative density function\n"
      ],
      "metadata": {
        "colab": {
          "base_uri": "https://localhost:8080/"
        },
        "id": "8T3sgywp5wy7",
        "outputId": "203929e5-3d44-446b-df18-14016041ee70"
      },
      "execution_count": 757,
      "outputs": [
        {
          "output_type": "stream",
          "name": "stdout",
          "text": [
            "p-value: 0.964915107315732\n",
            "Significance level:  0.05\n",
            "Degree of Freedom:  1\n",
            "p-value: 0.964915107315732\n"
          ]
        }
      ]
    },
    {
      "cell_type": "markdown",
      "source": [
        "**In P value method**\\\n",
        "If P value > 0.05 (significance value), Accept Ho\\\n",
        "P Value < 0.05 (significance value), Reject Ho\n",
        "\n",
        "**In critical value method**\\\n",
        "Test statistic value > critical value, Reject Ho\\\n",
        "Test statistic value < critical value, Accept Ho"
      ],
      "metadata": {
        "id": "BVZZGcSOEzvQ"
      }
    },
    {
      "cell_type": "markdown",
      "source": [
        "**By P value method**\\\n",
        "Ho =  There is No relationship between 2 categorical variables\\\n",
        "H1 = There is a relationshio between 2 categorical variables\n",
        "\n",
        "**By critical value method**\\\n",
        "Ho =  There is No relationship between 2 categorical variables\\\n",
        "H1 = There is a relationshio between 2 categorical variables\n",
        "\n"
      ],
      "metadata": {
        "id": "bMI49g9JFRJM"
      }
    },
    {
      "cell_type": "code",
      "source": [
        "if chi_square_statistic>=critical_value:\n",
        "    print(\"Reject H0,There is a relationship between 2 categorical variables\")\n",
        "else:\n",
        "    print(\"Retain H0,There is no relationship between 2 categorical variables\")\n",
        "    \n",
        "if p_value<=alpha:\n",
        "    print(\"Reject H0,There is a relationship between 2 categorical variables\")\n",
        "else:\n",
        "    print(\"Retain H0,There is no relationship between 2 categorical variables\")"
      ],
      "metadata": {
        "colab": {
          "base_uri": "https://localhost:8080/"
        },
        "id": "tEyJFiVd5ybT",
        "outputId": "5f8e4a40-e775-438d-cb6c-24cd87bd21a4"
      },
      "execution_count": 758,
      "outputs": [
        {
          "output_type": "stream",
          "name": "stdout",
          "text": [
            "Retain H0,There is no relationship between 2 categorical variables\n",
            "Retain H0,There is no relationship between 2 categorical variables\n"
          ]
        }
      ]
    },
    {
      "cell_type": "markdown",
      "source": [
        "## **T Test**\n",
        "A t-test is a type of inferential statistic which is used to determine if there is a significant difference between the means of two groups which may be related in certain features\n",
        "\n",
        "T-test has 2 types : 1. one sampled t-test 2. two-sampled t-test."
      ],
      "metadata": {
        "id": "p6kjkdorAF1l"
      }
    },
    {
      "cell_type": "markdown",
      "source": [
        "\n",
        "\n",
        "1.   ttest_1samp - Calculates the T-test for the mean of ONE group of scores.\n",
        "2.   ttest_ind - Calculates the T-test for the means of TWO INDEPENDENT samples of scores. \n",
        "3.   ttest_rel - Calculates the T-test on TWO RELATED samples of scores, a and b.\n",
        "\n",
        "*    Statsmodels is a Python package that allows users to explore data, estimate statistical models, and perform statistical tests. \n",
        "*    All of the statistics functions are located in the sub-package scipy. stats and a fairly complete listing of these functions can be obtained using info(stats) function.\n",
        "\n"
      ],
      "metadata": {
        "id": "eUvHF3JtJx3Q"
      }
    },
    {
      "cell_type": "markdown",
      "source": [
        "**if we take 2 groups, these 2 groups may be a population. if we take the sample of 2 popuplation, and then we compare the mean we can say conclusion that there is significant differnce between these 2 populations by considering the mean**"
      ],
      "metadata": {
        "id": "tzqtzplTQJ6x"
      }
    },
    {
      "cell_type": "markdown",
      "source": [
        "**One-sample T-test with Python**\\\n",
        "This test will tell us whether means of the sample and the population are different.in a group(variable)\n",
        "\n",
        "1st we take the mean of popultaion and then mean of sample and then compare each other"
      ],
      "metadata": {
        "id": "6QAfAT5qRJId"
      }
    },
    {
      "cell_type": "markdown",
      "source": [
        "![image.png](data:image/png;base64,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)"
      ],
      "metadata": {
        "id": "R_sz6SKwRLSa"
      }
    },
    {
      "cell_type": "code",
      "source": [
        "from scipy.stats import ttest_1samp, ttest_ind, ttest_rel"
      ],
      "metadata": {
        "id": "uCCQDLz-J5V9"
      },
      "execution_count": 759,
      "outputs": []
    },
    {
      "cell_type": "code",
      "source": [
        "ages=[10,20,35,50,28,40,55,18,16,55,30,25,43,18,30,28,14,24,16,17,32,35,26,27,65,18,43,23,21,20,19,70]\n",
        "#a group of people and their age"
      ],
      "metadata": {
        "id": "iK7nNbMZAMx8"
      },
      "execution_count": 760,
      "outputs": []
    },
    {
      "cell_type": "markdown",
      "source": [
        "H0 : There is No difference between sample mean and population mean\\\n",
        "H1 : There is a difference between sample mean and population mean"
      ],
      "metadata": {
        "id": "3lH9QjvzIg4S"
      }
    },
    {
      "cell_type": "code",
      "source": [
        "len(ages)\n",
        "#total no of people"
      ],
      "metadata": {
        "colab": {
          "base_uri": "https://localhost:8080/"
        },
        "id": "ta-G9DZmAjPF",
        "outputId": "31212a74-b2dc-4501-c950-e3d77775019b"
      },
      "execution_count": 761,
      "outputs": [
        {
          "output_type": "execute_result",
          "data": {
            "text/plain": [
              "32"
            ]
          },
          "metadata": {},
          "execution_count": 761
        }
      ]
    },
    {
      "cell_type": "code",
      "source": [
        "ages_mean=np.mean(ages)\n",
        "print(ages_mean)"
      ],
      "metadata": {
        "colab": {
          "base_uri": "https://localhost:8080/"
        },
        "id": "1zhyFizAAjTa",
        "outputId": "727f00b8-2542-4b5e-bfc3-228dbce24d7c"
      },
      "execution_count": 762,
      "outputs": [
        {
          "output_type": "stream",
          "name": "stdout",
          "text": [
            "30.34375\n"
          ]
        }
      ]
    },
    {
      "cell_type": "code",
      "source": [
        "## Lets take sample\n",
        "#taking a sample and checking, sample of 10 randomly choosen ages\n",
        "#for randomly choosing we use the code random.choice\n",
        "sample_size=10\n",
        "age_sample=np.random.choice(ages,sample_size)"
      ],
      "metadata": {
        "id": "GX7hSuN6AjV9"
      },
      "execution_count": 763,
      "outputs": []
    },
    {
      "cell_type": "code",
      "source": [
        "age_sample"
      ],
      "metadata": {
        "colab": {
          "base_uri": "https://localhost:8080/"
        },
        "id": "TKaOrXeMAjY2",
        "outputId": "67a5dd71-41bb-43ba-c11c-39e54d95d692"
      },
      "execution_count": 764,
      "outputs": [
        {
          "output_type": "execute_result",
          "data": {
            "text/plain": [
              "array([18, 10, 24, 10, 35, 55, 10, 70, 18, 28])"
            ]
          },
          "metadata": {},
          "execution_count": 764
        }
      ]
    },
    {
      "cell_type": "code",
      "source": [
        "ttest,p_value=ttest_1samp(age_sample,30)\n",
        "#ttest is t statistic value and p value\n",
        "#checking age sample based on population mean 30"
      ],
      "metadata": {
        "id": "SJ1XBaREAwIw"
      },
      "execution_count": 765,
      "outputs": []
    },
    {
      "cell_type": "code",
      "source": [
        "print(p_value)"
      ],
      "metadata": {
        "colab": {
          "base_uri": "https://localhost:8080/"
        },
        "id": "kto3fqIqAwMJ",
        "outputId": "4f48a7ff-e522-4a47-f66c-7323a011953f"
      },
      "execution_count": 766,
      "outputs": [
        {
          "output_type": "stream",
          "name": "stdout",
          "text": [
            "0.7403808450296021\n"
          ]
        }
      ]
    },
    {
      "cell_type": "markdown",
      "source": [
        "**In P value method**\\\n",
        "If P value > 0.05 (significance value), Accept Ho\\\n",
        "P Value < 0.05 (significance value), Reject Ho"
      ],
      "metadata": {
        "id": "ZzYEafqaMej2"
      }
    },
    {
      "cell_type": "code",
      "source": [
        "# alpha value is 0.05 or 5% of significance level\n",
        "if p_value < 0.05:    \n",
        "    print(\" we are rejecting null hypothesis\")\n",
        "else:\n",
        "    print(\"we are accepting null hypothesis\")"
      ],
      "metadata": {
        "colab": {
          "base_uri": "https://localhost:8080/"
        },
        "id": "YrKnRvcKAwO-",
        "outputId": "2fc5b639-a865-4e95-b3a0-d763270f9765"
      },
      "execution_count": 767,
      "outputs": [
        {
          "output_type": "stream",
          "name": "stdout",
          "text": [
            "we are accepting null hypothesis\n"
          ]
        }
      ]
    },
    {
      "cell_type": "markdown",
      "source": [
        "## **Some More Examples**\n",
        "Consider the age of students in a college and in Class A"
      ],
      "metadata": {
        "id": "mOeLnqFrMnRH"
      }
    },
    {
      "cell_type": "code",
      "source": [
        "import numpy as np\n",
        "import pandas as pd\n",
        "import scipy.stats as stats\n",
        "import math\n",
        "np.random.seed(6)\n",
        "\n",
        "#in school there is more than 1500 peoples\n",
        "#here we consider poisson distribution\n",
        "#loc=18 indicated the most left value, that the age of students in the school starting as 18\n",
        "#mu=35 indicates that the mean age of school students is 35\n",
        "\n",
        "#for class A loc=18 indicates the class students age starting from 18\n",
        "#mean age of Class A students is mu=30 \n",
        "# and the size of Class A =60\n",
        "school_ages=stats.poisson.rvs(loc=18,mu=35,size=1500)\n",
        "classA_ages=stats.poisson.rvs(loc=18,mu=30,size=60)"
      ],
      "metadata": {
        "id": "pYb0BAfXAwR4"
      },
      "execution_count": 768,
      "outputs": []
    },
    {
      "cell_type": "code",
      "source": [
        "classA_ages.mean()"
      ],
      "metadata": {
        "id": "S7z4dNRTAwYf",
        "colab": {
          "base_uri": "https://localhost:8080/"
        },
        "outputId": "4b5b9b23-c6ed-444d-ca5a-bb672a053718"
      },
      "execution_count": 769,
      "outputs": [
        {
          "output_type": "execute_result",
          "data": {
            "text/plain": [
              "46.9"
            ]
          },
          "metadata": {},
          "execution_count": 769
        }
      ]
    },
    {
      "cell_type": "code",
      "source": [
        "school_ages.mean()"
      ],
      "metadata": {
        "colab": {
          "base_uri": "https://localhost:8080/"
        },
        "id": "_VfFbOfAP0FX",
        "outputId": "ed551303-e709-469f-af6e-6402198ac7b2"
      },
      "execution_count": 770,
      "outputs": [
        {
          "output_type": "execute_result",
          "data": {
            "text/plain": [
              "53.303333333333335"
            ]
          },
          "metadata": {},
          "execution_count": 770
        }
      ]
    },
    {
      "cell_type": "code",
      "source": [
        "#pop mean is population mean, here we take - school ages\n",
        "# here we use ttest_1samp for getting the result\n",
        "_,p_value=stats.ttest_1samp(a=classA_ages,popmean=school_ages.mean())"
      ],
      "metadata": {
        "id": "gM2IEqDcPJEZ"
      },
      "execution_count": 771,
      "outputs": []
    },
    {
      "cell_type": "code",
      "source": [
        "p_value"
      ],
      "metadata": {
        "colab": {
          "base_uri": "https://localhost:8080/"
        },
        "id": "YekpVHSXPpjR",
        "outputId": "1cb37c24-cccf-4edd-d450-10eec96bb8e5"
      },
      "execution_count": 772,
      "outputs": [
        {
          "output_type": "execute_result",
          "data": {
            "text/plain": [
              "1.139027071016194e-13"
            ]
          },
          "metadata": {},
          "execution_count": 772
        }
      ]
    },
    {
      "cell_type": "markdown",
      "source": [
        "Ho : there is no difference in the mean of the age, mu 1= mu2\\\n",
        "H1 : there is difference in the mean of the age, mu1 != mu2"
      ],
      "metadata": {
        "id": "1_wo-8-mQMha"
      }
    },
    {
      "cell_type": "code",
      "source": [
        "if p_value < 0.05:  \n",
        "    print(\" we are rejecting null hypothesis\")\n",
        "else:\n",
        "    print(\"we are accepting null hypothesis\")"
      ],
      "metadata": {
        "colab": {
          "base_uri": "https://localhost:8080/"
        },
        "id": "jV5fasNAP8M3",
        "outputId": "bfd6cdfc-fbbc-4727-8d34-14b6eb71c6cc"
      },
      "execution_count": 773,
      "outputs": [
        {
          "output_type": "stream",
          "name": "stdout",
          "text": [
            " we are rejecting null hypothesis\n"
          ]
        }
      ]
    },
    {
      "cell_type": "markdown",
      "source": [
        "## **Two-sample T-test With Python**\n",
        "The Independent Samples t Test or 2-sample t-test compares the means of two independent groups in order to determine whether there is statistical evidence that the associated population means are significantly different. The Independent Samples t Test is a parametric test. This test is also known as: Independent t Test\n",
        "\n"
      ],
      "metadata": {
        "id": "ngYc4epQQx1p"
      }
    },
    {
      "cell_type": "markdown",
      "source": [
        "![image.png](data:image/png;base64,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)"
      ],
      "metadata": {
        "id": "jLEa5T48Q-DZ"
      }
    },
    {
      "cell_type": "markdown",
      "source": [
        "**Here we are comparing the Ages of Class A and Class B students, two individual groups.**"
      ],
      "metadata": {
        "id": "pcqmkJnoWiG4"
      }
    },
    {
      "cell_type": "code",
      "source": [
        "#to comapre the age of Class A and class B, here we take Class B as another group\n",
        "\n",
        "#for class b loc=18 indicates the class students age starting from 18\n",
        "#mean age of Class B students is mu=33 \n",
        "# and the size of Class A =60\n",
        "np.random.seed(12)\n",
        "ClassB_ages=stats.poisson.rvs(loc=18,mu=33,size=60)\n",
        "ClassB_ages.mean()"
      ],
      "metadata": {
        "colab": {
          "base_uri": "https://localhost:8080/"
        },
        "id": "NWBHdQscRF0X",
        "outputId": "11ef52cb-3e6b-4923-a69a-f66c271a45a2"
      },
      "execution_count": 774,
      "outputs": [
        {
          "output_type": "execute_result",
          "data": {
            "text/plain": [
              "50.63333333333333"
            ]
          },
          "metadata": {},
          "execution_count": 774
        }
      ]
    },
    {
      "cell_type": "code",
      "source": [
        "#here we use ttest_ind to get the result\n",
        "\n",
        "_,p_value=stats.ttest_ind(a=classA_ages,b=ClassB_ages,equal_var=False)"
      ],
      "metadata": {
        "id": "DYnFFea4RNCP"
      },
      "execution_count": 775,
      "outputs": []
    },
    {
      "cell_type": "code",
      "source": [
        "if p_value < 0.05:  \n",
        "    print(\" we are rejecting null hypothesis\")\n",
        "else:\n",
        "    print(\"we are accepting null hypothesis\")"
      ],
      "metadata": {
        "colab": {
          "base_uri": "https://localhost:8080/"
        },
        "id": "EWWfnG1WRNNb",
        "outputId": "ab9eec5a-cf31-4b9d-83bb-e40c39cceb0c"
      },
      "execution_count": 776,
      "outputs": [
        {
          "output_type": "stream",
          "name": "stdout",
          "text": [
            " we are rejecting null hypothesis\n"
          ]
        }
      ]
    },
    {
      "cell_type": "markdown",
      "source": [
        "## **Paired T-test With Python**\n",
        "When you want to check how different samples from the same group are, you can go for a paired T-test"
      ],
      "metadata": {
        "id": "uaCxVm0MXR3r"
      }
    },
    {
      "cell_type": "code",
      "source": [
        "#weight 1 indicates the weight of kids in a school.\n",
        "#weight 2 is the weight of same kids after years.\n",
        "#in weight 2 it is added some normal values with scale 5, loc=1.25\n",
        "#in all 15 values are added the normal value\n",
        "weight1=[25,30,28,35,28,34,26,29,30,26,28,32,31,30,45]\n",
        "weight2=weight1+stats.norm.rvs(scale=5,loc=-1.25,size=15)"
      ],
      "metadata": {
        "id": "5azGFbPwXb22"
      },
      "execution_count": 777,
      "outputs": []
    },
    {
      "cell_type": "markdown",
      "source": [
        "Here we are checking weight 1 and weight 2 have and statistical differnce\n",
        "\n",
        "And to check how differnce isparticular samples are\n",
        "\n",
        "### Ho : there is no statitical differnce in weights\\\n",
        "### H1 : there is a statistical differnce in weights "
      ],
      "metadata": {
        "id": "tYMypaoKbzzr"
      }
    },
    {
      "cell_type": "code",
      "source": [
        "print(weight1)\n",
        "print(weight2)"
      ],
      "metadata": {
        "colab": {
          "base_uri": "https://localhost:8080/"
        },
        "id": "tA61m3oKcyMm",
        "outputId": "75322c64-0578-46c7-9f44-b9c5965e0419"
      },
      "execution_count": 778,
      "outputs": [
        {
          "output_type": "stream",
          "name": "stdout",
          "text": [
            "[25, 30, 28, 35, 28, 34, 26, 29, 30, 26, 28, 32, 31, 30, 45]\n",
            "[30.57926457 34.91022437 29.00444617 30.54295091 19.86201983 37.57873174\n",
            " 18.3299827  21.3771395  36.36420881 32.05941216 26.93827982 29.519014\n",
            " 26.42851213 30.50667769 41.32984284]\n"
          ]
        }
      ]
    },
    {
      "cell_type": "code",
      "source": [
        "#combined all into a data frame\n",
        "weight_df=pd.DataFrame({\"weight_10\":np.array(weight1),\n",
        "                         \"weight_20\":np.array(weight2),\n",
        "                       \"weight_change\":np.array(weight2)-np.array(weight1)})"
      ],
      "metadata": {
        "id": "2Kx10JSTdA0j"
      },
      "execution_count": 779,
      "outputs": []
    },
    {
      "cell_type": "code",
      "source": [
        "weight_df"
      ],
      "metadata": {
        "colab": {
          "base_uri": "https://localhost:8080/",
          "height": 519
        },
        "id": "QXpKPNSHdA7J",
        "outputId": "641474ba-1fd8-4195-908a-2aed3a1141f7"
      },
      "execution_count": 780,
      "outputs": [
        {
          "output_type": "execute_result",
          "data": {
            "text/plain": [
              "    weight_10  weight_20  weight_change\n",
              "0          25  30.579265       5.579265\n",
              "1          30  34.910224       4.910224\n",
              "2          28  29.004446       1.004446\n",
              "3          35  30.542951      -4.457049\n",
              "4          28  19.862020      -8.137980\n",
              "5          34  37.578732       3.578732\n",
              "6          26  18.329983      -7.670017\n",
              "7          29  21.377139      -7.622861\n",
              "8          30  36.364209       6.364209\n",
              "9          26  32.059412       6.059412\n",
              "10         28  26.938280      -1.061720\n",
              "11         32  29.519014      -2.480986\n",
              "12         31  26.428512      -4.571488\n",
              "13         30  30.506678       0.506678\n",
              "14         45  41.329843      -3.670157"
            ],
            "text/html": [
              "\n",
              "  <div id=\"df-fcd178a3-75b7-4809-b8aa-3515850d7e6b\">\n",
              "    <div class=\"colab-df-container\">\n",
              "      <div>\n",
              "<style scoped>\n",
              "    .dataframe tbody tr th:only-of-type {\n",
              "        vertical-align: middle;\n",
              "    }\n",
              "\n",
              "    .dataframe tbody tr th {\n",
              "        vertical-align: top;\n",
              "    }\n",
              "\n",
              "    .dataframe thead th {\n",
              "        text-align: right;\n",
              "    }\n",
              "</style>\n",
              "<table border=\"1\" class=\"dataframe\">\n",
              "  <thead>\n",
              "    <tr style=\"text-align: right;\">\n",
              "      <th></th>\n",
              "      <th>weight_10</th>\n",
              "      <th>weight_20</th>\n",
              "      <th>weight_change</th>\n",
              "    </tr>\n",
              "  </thead>\n",
              "  <tbody>\n",
              "    <tr>\n",
              "      <th>0</th>\n",
              "      <td>25</td>\n",
              "      <td>30.579265</td>\n",
              "      <td>5.579265</td>\n",
              "    </tr>\n",
              "    <tr>\n",
              "      <th>1</th>\n",
              "      <td>30</td>\n",
              "      <td>34.910224</td>\n",
              "      <td>4.910224</td>\n",
              "    </tr>\n",
              "    <tr>\n",
              "      <th>2</th>\n",
              "      <td>28</td>\n",
              "      <td>29.004446</td>\n",
              "      <td>1.004446</td>\n",
              "    </tr>\n",
              "    <tr>\n",
              "      <th>3</th>\n",
              "      <td>35</td>\n",
              "      <td>30.542951</td>\n",
              "      <td>-4.457049</td>\n",
              "    </tr>\n",
              "    <tr>\n",
              "      <th>4</th>\n",
              "      <td>28</td>\n",
              "      <td>19.862020</td>\n",
              "      <td>-8.137980</td>\n",
              "    </tr>\n",
              "    <tr>\n",
              "      <th>5</th>\n",
              "      <td>34</td>\n",
              "      <td>37.578732</td>\n",
              "      <td>3.578732</td>\n",
              "    </tr>\n",
              "    <tr>\n",
              "      <th>6</th>\n",
              "      <td>26</td>\n",
              "      <td>18.329983</td>\n",
              "      <td>-7.670017</td>\n",
              "    </tr>\n",
              "    <tr>\n",
              "      <th>7</th>\n",
              "      <td>29</td>\n",
              "      <td>21.377139</td>\n",
              "      <td>-7.622861</td>\n",
              "    </tr>\n",
              "    <tr>\n",
              "      <th>8</th>\n",
              "      <td>30</td>\n",
              "      <td>36.364209</td>\n",
              "      <td>6.364209</td>\n",
              "    </tr>\n",
              "    <tr>\n",
              "      <th>9</th>\n",
              "      <td>26</td>\n",
              "      <td>32.059412</td>\n",
              "      <td>6.059412</td>\n",
              "    </tr>\n",
              "    <tr>\n",
              "      <th>10</th>\n",
              "      <td>28</td>\n",
              "      <td>26.938280</td>\n",
              "      <td>-1.061720</td>\n",
              "    </tr>\n",
              "    <tr>\n",
              "      <th>11</th>\n",
              "      <td>32</td>\n",
              "      <td>29.519014</td>\n",
              "      <td>-2.480986</td>\n",
              "    </tr>\n",
              "    <tr>\n",
              "      <th>12</th>\n",
              "      <td>31</td>\n",
              "      <td>26.428512</td>\n",
              "      <td>-4.571488</td>\n",
              "    </tr>\n",
              "    <tr>\n",
              "      <th>13</th>\n",
              "      <td>30</td>\n",
              "      <td>30.506678</td>\n",
              "      <td>0.506678</td>\n",
              "    </tr>\n",
              "    <tr>\n",
              "      <th>14</th>\n",
              "      <td>45</td>\n",
              "      <td>41.329843</td>\n",
              "      <td>-3.670157</td>\n",
              "    </tr>\n",
              "  </tbody>\n",
              "</table>\n",
              "</div>\n",
              "      <button class=\"colab-df-convert\" onclick=\"convertToInteractive('df-fcd178a3-75b7-4809-b8aa-3515850d7e6b')\"\n",
              "              title=\"Convert this dataframe to an interactive table.\"\n",
              "              style=\"display:none;\">\n",
              "        \n",
              "  <svg xmlns=\"http://www.w3.org/2000/svg\" height=\"24px\"viewBox=\"0 0 24 24\"\n",
              "       width=\"24px\">\n",
              "    <path d=\"M0 0h24v24H0V0z\" fill=\"none\"/>\n",
              "    <path d=\"M18.56 5.44l.94 2.06.94-2.06 2.06-.94-2.06-.94-.94-2.06-.94 2.06-2.06.94zm-11 1L8.5 8.5l.94-2.06 2.06-.94-2.06-.94L8.5 2.5l-.94 2.06-2.06.94zm10 10l.94 2.06.94-2.06 2.06-.94-2.06-.94-.94-2.06-.94 2.06-2.06.94z\"/><path d=\"M17.41 7.96l-1.37-1.37c-.4-.4-.92-.59-1.43-.59-.52 0-1.04.2-1.43.59L10.3 9.45l-7.72 7.72c-.78.78-.78 2.05 0 2.83L4 21.41c.39.39.9.59 1.41.59.51 0 1.02-.2 1.41-.59l7.78-7.78 2.81-2.81c.8-.78.8-2.07 0-2.86zM5.41 20L4 18.59l7.72-7.72 1.47 1.35L5.41 20z\"/>\n",
              "  </svg>\n",
              "      </button>\n",
              "      \n",
              "  <style>\n",
              "    .colab-df-container {\n",
              "      display:flex;\n",
              "      flex-wrap:wrap;\n",
              "      gap: 12px;\n",
              "    }\n",
              "\n",
              "    .colab-df-convert {\n",
              "      background-color: #E8F0FE;\n",
              "      border: none;\n",
              "      border-radius: 50%;\n",
              "      cursor: pointer;\n",
              "      display: none;\n",
              "      fill: #1967D2;\n",
              "      height: 32px;\n",
              "      padding: 0 0 0 0;\n",
              "      width: 32px;\n",
              "    }\n",
              "\n",
              "    .colab-df-convert:hover {\n",
              "      background-color: #E2EBFA;\n",
              "      box-shadow: 0px 1px 2px rgba(60, 64, 67, 0.3), 0px 1px 3px 1px rgba(60, 64, 67, 0.15);\n",
              "      fill: #174EA6;\n",
              "    }\n",
              "\n",
              "    [theme=dark] .colab-df-convert {\n",
              "      background-color: #3B4455;\n",
              "      fill: #D2E3FC;\n",
              "    }\n",
              "\n",
              "    [theme=dark] .colab-df-convert:hover {\n",
              "      background-color: #434B5C;\n",
              "      box-shadow: 0px 1px 3px 1px rgba(0, 0, 0, 0.15);\n",
              "      filter: drop-shadow(0px 1px 2px rgba(0, 0, 0, 0.3));\n",
              "      fill: #FFFFFF;\n",
              "    }\n",
              "  </style>\n",
              "\n",
              "      <script>\n",
              "        const buttonEl =\n",
              "          document.querySelector('#df-fcd178a3-75b7-4809-b8aa-3515850d7e6b button.colab-df-convert');\n",
              "        buttonEl.style.display =\n",
              "          google.colab.kernel.accessAllowed ? 'block' : 'none';\n",
              "\n",
              "        async function convertToInteractive(key) {\n",
              "          const element = document.querySelector('#df-fcd178a3-75b7-4809-b8aa-3515850d7e6b');\n",
              "          const dataTable =\n",
              "            await google.colab.kernel.invokeFunction('convertToInteractive',\n",
              "                                                     [key], {});\n",
              "          if (!dataTable) return;\n",
              "\n",
              "          const docLinkHtml = 'Like what you see? Visit the ' +\n",
              "            '<a target=\"_blank\" href=https://colab.research.google.com/notebooks/data_table.ipynb>data table notebook</a>'\n",
              "            + ' to learn more about interactive tables.';\n",
              "          element.innerHTML = '';\n",
              "          dataTable['output_type'] = 'display_data';\n",
              "          await google.colab.output.renderOutput(dataTable, element);\n",
              "          const docLink = document.createElement('div');\n",
              "          docLink.innerHTML = docLinkHtml;\n",
              "          element.appendChild(docLink);\n",
              "        }\n",
              "      </script>\n",
              "    </div>\n",
              "  </div>\n",
              "  "
            ]
          },
          "metadata": {},
          "execution_count": 780
        }
      ]
    },
    {
      "cell_type": "code",
      "source": [
        "#using ttest_rel code we are calculating the ttest on 2 related samples.\n",
        "\n",
        "_,p_value=stats.ttest_rel(a=weight1,b=weight2)"
      ],
      "metadata": {
        "id": "IEVItPbcdLvj"
      },
      "execution_count": 781,
      "outputs": []
    },
    {
      "cell_type": "code",
      "source": [
        "print(p_value)"
      ],
      "metadata": {
        "colab": {
          "base_uri": "https://localhost:8080/"
        },
        "id": "A-o0JSLpdLy8",
        "outputId": "01ec2856-a0fe-42b9-9450-0254bcf5fe01"
      },
      "execution_count": 782,
      "outputs": [
        {
          "output_type": "stream",
          "name": "stdout",
          "text": [
            "0.5732936534411279\n"
          ]
        }
      ]
    },
    {
      "cell_type": "code",
      "source": [
        "if p_value < 0.05:   \n",
        "    print(\" we are rejecting null hypothesis\")\n",
        "else:\n",
        "    print(\"we are accepting null hypothesis\")"
      ],
      "metadata": {
        "colab": {
          "base_uri": "https://localhost:8080/"
        },
        "id": "oGKq9Z-OdL2o",
        "outputId": "e18c0b9d-b0ae-40b5-e7f9-fd4d017fc259"
      },
      "execution_count": 783,
      "outputs": [
        {
          "output_type": "stream",
          "name": "stdout",
          "text": [
            "we are accepting null hypothesis\n"
          ]
        }
      ]
    },
    {
      "cell_type": "markdown",
      "source": [
        "Since there is a little bit change in the weights here the null hypothesis is Accepted,\n",
        "\n",
        "beacuse p vlue > 0.05"
      ],
      "metadata": {
        "id": "JiTgKvwQeoGi"
      }
    },
    {
      "cell_type": "markdown",
      "source": [
        "## **Correlation**"
      ],
      "metadata": {
        "id": "Ks6qrEOWfrOs"
      }
    },
    {
      "cell_type": "code",
      "source": [
        "import seaborn as sns\n",
        "df=sns.load_dataset('iris')"
      ],
      "metadata": {
        "id": "updC5Argftzi"
      },
      "execution_count": 784,
      "outputs": []
    },
    {
      "cell_type": "code",
      "source": [
        "df.shape"
      ],
      "metadata": {
        "colab": {
          "base_uri": "https://localhost:8080/"
        },
        "id": "qaGIVXVIfxIz",
        "outputId": "b09d0841-de71-4b06-8cbc-6142812f65de"
      },
      "execution_count": 785,
      "outputs": [
        {
          "output_type": "execute_result",
          "data": {
            "text/plain": [
              "(150, 5)"
            ]
          },
          "metadata": {},
          "execution_count": 785
        }
      ]
    },
    {
      "cell_type": "code",
      "source": [
        "df.corr()"
      ],
      "metadata": {
        "colab": {
          "base_uri": "https://localhost:8080/",
          "height": 175
        },
        "id": "ZJU6Vm4cfxOB",
        "outputId": "e277ab18-d4dd-4131-cff9-50e5abf22482"
      },
      "execution_count": 786,
      "outputs": [
        {
          "output_type": "execute_result",
          "data": {
            "text/plain": [
              "              sepal_length  sepal_width  petal_length  petal_width\n",
              "sepal_length      1.000000    -0.117570      0.871754     0.817941\n",
              "sepal_width      -0.117570     1.000000     -0.428440    -0.366126\n",
              "petal_length      0.871754    -0.428440      1.000000     0.962865\n",
              "petal_width       0.817941    -0.366126      0.962865     1.000000"
            ],
            "text/html": [
              "\n",
              "  <div id=\"df-6cc1a3b9-b8bc-4596-87ea-09071c608de9\">\n",
              "    <div class=\"colab-df-container\">\n",
              "      <div>\n",
              "<style scoped>\n",
              "    .dataframe tbody tr th:only-of-type {\n",
              "        vertical-align: middle;\n",
              "    }\n",
              "\n",
              "    .dataframe tbody tr th {\n",
              "        vertical-align: top;\n",
              "    }\n",
              "\n",
              "    .dataframe thead th {\n",
              "        text-align: right;\n",
              "    }\n",
              "</style>\n",
              "<table border=\"1\" class=\"dataframe\">\n",
              "  <thead>\n",
              "    <tr style=\"text-align: right;\">\n",
              "      <th></th>\n",
              "      <th>sepal_length</th>\n",
              "      <th>sepal_width</th>\n",
              "      <th>petal_length</th>\n",
              "      <th>petal_width</th>\n",
              "    </tr>\n",
              "  </thead>\n",
              "  <tbody>\n",
              "    <tr>\n",
              "      <th>sepal_length</th>\n",
              "      <td>1.000000</td>\n",
              "      <td>-0.117570</td>\n",
              "      <td>0.871754</td>\n",
              "      <td>0.817941</td>\n",
              "    </tr>\n",
              "    <tr>\n",
              "      <th>sepal_width</th>\n",
              "      <td>-0.117570</td>\n",
              "      <td>1.000000</td>\n",
              "      <td>-0.428440</td>\n",
              "      <td>-0.366126</td>\n",
              "    </tr>\n",
              "    <tr>\n",
              "      <th>petal_length</th>\n",
              "      <td>0.871754</td>\n",
              "      <td>-0.428440</td>\n",
              "      <td>1.000000</td>\n",
              "      <td>0.962865</td>\n",
              "    </tr>\n",
              "    <tr>\n",
              "      <th>petal_width</th>\n",
              "      <td>0.817941</td>\n",
              "      <td>-0.366126</td>\n",
              "      <td>0.962865</td>\n",
              "      <td>1.000000</td>\n",
              "    </tr>\n",
              "  </tbody>\n",
              "</table>\n",
              "</div>\n",
              "      <button class=\"colab-df-convert\" onclick=\"convertToInteractive('df-6cc1a3b9-b8bc-4596-87ea-09071c608de9')\"\n",
              "              title=\"Convert this dataframe to an interactive table.\"\n",
              "              style=\"display:none;\">\n",
              "        \n",
              "  <svg xmlns=\"http://www.w3.org/2000/svg\" height=\"24px\"viewBox=\"0 0 24 24\"\n",
              "       width=\"24px\">\n",
              "    <path d=\"M0 0h24v24H0V0z\" fill=\"none\"/>\n",
              "    <path d=\"M18.56 5.44l.94 2.06.94-2.06 2.06-.94-2.06-.94-.94-2.06-.94 2.06-2.06.94zm-11 1L8.5 8.5l.94-2.06 2.06-.94-2.06-.94L8.5 2.5l-.94 2.06-2.06.94zm10 10l.94 2.06.94-2.06 2.06-.94-2.06-.94-.94-2.06-.94 2.06-2.06.94z\"/><path d=\"M17.41 7.96l-1.37-1.37c-.4-.4-.92-.59-1.43-.59-.52 0-1.04.2-1.43.59L10.3 9.45l-7.72 7.72c-.78.78-.78 2.05 0 2.83L4 21.41c.39.39.9.59 1.41.59.51 0 1.02-.2 1.41-.59l7.78-7.78 2.81-2.81c.8-.78.8-2.07 0-2.86zM5.41 20L4 18.59l7.72-7.72 1.47 1.35L5.41 20z\"/>\n",
              "  </svg>\n",
              "      </button>\n",
              "      \n",
              "  <style>\n",
              "    .colab-df-container {\n",
              "      display:flex;\n",
              "      flex-wrap:wrap;\n",
              "      gap: 12px;\n",
              "    }\n",
              "\n",
              "    .colab-df-convert {\n",
              "      background-color: #E8F0FE;\n",
              "      border: none;\n",
              "      border-radius: 50%;\n",
              "      cursor: pointer;\n",
              "      display: none;\n",
              "      fill: #1967D2;\n",
              "      height: 32px;\n",
              "      padding: 0 0 0 0;\n",
              "      width: 32px;\n",
              "    }\n",
              "\n",
              "    .colab-df-convert:hover {\n",
              "      background-color: #E2EBFA;\n",
              "      box-shadow: 0px 1px 2px rgba(60, 64, 67, 0.3), 0px 1px 3px 1px rgba(60, 64, 67, 0.15);\n",
              "      fill: #174EA6;\n",
              "    }\n",
              "\n",
              "    [theme=dark] .colab-df-convert {\n",
              "      background-color: #3B4455;\n",
              "      fill: #D2E3FC;\n",
              "    }\n",
              "\n",
              "    [theme=dark] .colab-df-convert:hover {\n",
              "      background-color: #434B5C;\n",
              "      box-shadow: 0px 1px 3px 1px rgba(0, 0, 0, 0.15);\n",
              "      filter: drop-shadow(0px 1px 2px rgba(0, 0, 0, 0.3));\n",
              "      fill: #FFFFFF;\n",
              "    }\n",
              "  </style>\n",
              "\n",
              "      <script>\n",
              "        const buttonEl =\n",
              "          document.querySelector('#df-6cc1a3b9-b8bc-4596-87ea-09071c608de9 button.colab-df-convert');\n",
              "        buttonEl.style.display =\n",
              "          google.colab.kernel.accessAllowed ? 'block' : 'none';\n",
              "\n",
              "        async function convertToInteractive(key) {\n",
              "          const element = document.querySelector('#df-6cc1a3b9-b8bc-4596-87ea-09071c608de9');\n",
              "          const dataTable =\n",
              "            await google.colab.kernel.invokeFunction('convertToInteractive',\n",
              "                                                     [key], {});\n",
              "          if (!dataTable) return;\n",
              "\n",
              "          const docLinkHtml = 'Like what you see? Visit the ' +\n",
              "            '<a target=\"_blank\" href=https://colab.research.google.com/notebooks/data_table.ipynb>data table notebook</a>'\n",
              "            + ' to learn more about interactive tables.';\n",
              "          element.innerHTML = '';\n",
              "          dataTable['output_type'] = 'display_data';\n",
              "          await google.colab.output.renderOutput(dataTable, element);\n",
              "          const docLink = document.createElement('div');\n",
              "          docLink.innerHTML = docLinkHtml;\n",
              "          element.appendChild(docLink);\n",
              "        }\n",
              "      </script>\n",
              "    </div>\n",
              "  </div>\n",
              "  "
            ]
          },
          "metadata": {},
          "execution_count": 786
        }
      ]
    },
    {
      "cell_type": "markdown",
      "source": [
        "**Petal width and Sepal length are highly correlated arround 80%**\n",
        "\n",
        "Using these correlation values we can choose the independent and dependent variables\n",
        "\n",
        "using df.corr we get is pearson correlation values."
      ],
      "metadata": {
        "id": "uiYdImNkgWdf"
      }
    },
    {
      "cell_type": "code",
      "source": [
        "sns.pairplot(df)"
      ],
      "metadata": {
        "colab": {
          "base_uri": "https://localhost:8080/",
          "height": 743
        },
        "id": "FNBwd7ZlfxRE",
        "outputId": "bd29472c-c68f-4583-b48d-3133c60d79aa"
      },
      "execution_count": 787,
      "outputs": [
        {
          "output_type": "execute_result",
          "data": {
            "text/plain": [
              "<seaborn.axisgrid.PairGrid at 0x7f903276f050>"
            ]
          },
          "metadata": {},
          "execution_count": 787
        },
        {
          "output_type": "display_data",
          "data": {
            "text/plain": [
              "<Figure size 720x720 with 20 Axes>"
            ],
            "image/png": "[encoded data removed]"
          },
          "metadata": {
            "needs_background": "light"
          }
        }
      ]
    },
    {
      "cell_type": "markdown",
      "source": [
        "**Petal leanth and petal width are highly correlated of 96% and we can see the graph is linearly poitive correlated**"
      ],
      "metadata": {
        "id": "LhwavsZchGuX"
      }
    },
    {
      "cell_type": "markdown",
      "source": [
        "## **Anova Test(F-Test)**"
      ],
      "metadata": {
        "id": "c509dFacf-O9"
      }
    },
    {
      "cell_type": "markdown",
      "source": [
        "The t-test works well when dealing with two groups, but sometimes we want to compare more than two groups at the same time.\n",
        "\n",
        "For example, if we wanted to test whether petal_width age differs based on some categorical variable like species, we have to compare the means of each level or group the variable"
      ],
      "metadata": {
        "id": "sgIolhoEisru"
      }
    },
    {
      "cell_type": "markdown",
      "source": [
        "### **One Way F-test(Anova) :-**\n",
        "It tell whether two or more groups are similar or not based on their mean similarity and f-score.\n",
        "\n",
        "Example : there are 3 different category of iris flowers and their petal width and need to check whether all 3 group are similar or not"
      ],
      "metadata": {
        "id": "lSKOYoE8jXgV"
      }
    },
    {
      "cell_type": "markdown",
      "source": [
        "here using anova, petal width is Comparing using a categorical variable species.\n",
        "\n",
        "to check mean of petal width is same or different among each species.."
      ],
      "metadata": {
        "id": "ND6fenm1mvvS"
      }
    },
    {
      "cell_type": "code",
      "source": [
        "import seaborn as sns\n",
        "df1=sns.load_dataset('iris')"
      ],
      "metadata": {
        "id": "h4pA6fK3fxT3"
      },
      "execution_count": 788,
      "outputs": []
    },
    {
      "cell_type": "code",
      "source": [
        "df1.head()"
      ],
      "metadata": {
        "colab": {
          "base_uri": "https://localhost:8080/",
          "height": 206
        },
        "id": "e5Yiq0XvfxWL",
        "outputId": "2b32af13-5c82-40e5-d1f7-af0442b2e459"
      },
      "execution_count": 789,
      "outputs": [
        {
          "output_type": "execute_result",
          "data": {
            "text/plain": [
              "   sepal_length  sepal_width  petal_length  petal_width species\n",
              "0           5.1          3.5           1.4          0.2  setosa\n",
              "1           4.9          3.0           1.4          0.2  setosa\n",
              "2           4.7          3.2           1.3          0.2  setosa\n",
              "3           4.6          3.1           1.5          0.2  setosa\n",
              "4           5.0          3.6           1.4          0.2  setosa"
            ],
            "text/html": [
              "\n",
              "  <div id=\"df-4fa0418a-cc34-40b8-a972-2a033e8fc157\">\n",
              "    <div class=\"colab-df-container\">\n",
              "      <div>\n",
              "<style scoped>\n",
              "    .dataframe tbody tr th:only-of-type {\n",
              "        vertical-align: middle;\n",
              "    }\n",
              "\n",
              "    .dataframe tbody tr th {\n",
              "        vertical-align: top;\n",
              "    }\n",
              "\n",
              "    .dataframe thead th {\n",
              "        text-align: right;\n",
              "    }\n",
              "</style>\n",
              "<table border=\"1\" class=\"dataframe\">\n",
              "  <thead>\n",
              "    <tr style=\"text-align: right;\">\n",
              "      <th></th>\n",
              "      <th>sepal_length</th>\n",
              "      <th>sepal_width</th>\n",
              "      <th>petal_length</th>\n",
              "      <th>petal_width</th>\n",
              "      <th>species</th>\n",
              "    </tr>\n",
              "  </thead>\n",
              "  <tbody>\n",
              "    <tr>\n",
              "      <th>0</th>\n",
              "      <td>5.1</td>\n",
              "      <td>3.5</td>\n",
              "      <td>1.4</td>\n",
              "      <td>0.2</td>\n",
              "      <td>setosa</td>\n",
              "    </tr>\n",
              "    <tr>\n",
              "      <th>1</th>\n",
              "      <td>4.9</td>\n",
              "      <td>3.0</td>\n",
              "      <td>1.4</td>\n",
              "      <td>0.2</td>\n",
              "      <td>setosa</td>\n",
              "    </tr>\n",
              "    <tr>\n",
              "      <th>2</th>\n",
              "      <td>4.7</td>\n",
              "      <td>3.2</td>\n",
              "      <td>1.3</td>\n",
              "      <td>0.2</td>\n",
              "      <td>setosa</td>\n",
              "    </tr>\n",
              "    <tr>\n",
              "      <th>3</th>\n",
              "      <td>4.6</td>\n",
              "      <td>3.1</td>\n",
              "      <td>1.5</td>\n",
              "      <td>0.2</td>\n",
              "      <td>setosa</td>\n",
              "    </tr>\n",
              "    <tr>\n",
              "      <th>4</th>\n",
              "      <td>5.0</td>\n",
              "      <td>3.6</td>\n",
              "      <td>1.4</td>\n",
              "      <td>0.2</td>\n",
              "      <td>setosa</td>\n",
              "    </tr>\n",
              "  </tbody>\n",
              "</table>\n",
              "</div>\n",
              "      <button class=\"colab-df-convert\" onclick=\"convertToInteractive('df-4fa0418a-cc34-40b8-a972-2a033e8fc157')\"\n",
              "              title=\"Convert this dataframe to an interactive table.\"\n",
              "              style=\"display:none;\">\n",
              "        \n",
              "  <svg xmlns=\"http://www.w3.org/2000/svg\" height=\"24px\"viewBox=\"0 0 24 24\"\n",
              "       width=\"24px\">\n",
              "    <path d=\"M0 0h24v24H0V0z\" fill=\"none\"/>\n",
              "    <path d=\"M18.56 5.44l.94 2.06.94-2.06 2.06-.94-2.06-.94-.94-2.06-.94 2.06-2.06.94zm-11 1L8.5 8.5l.94-2.06 2.06-.94-2.06-.94L8.5 2.5l-.94 2.06-2.06.94zm10 10l.94 2.06.94-2.06 2.06-.94-2.06-.94-.94-2.06-.94 2.06-2.06.94z\"/><path d=\"M17.41 7.96l-1.37-1.37c-.4-.4-.92-.59-1.43-.59-.52 0-1.04.2-1.43.59L10.3 9.45l-7.72 7.72c-.78.78-.78 2.05 0 2.83L4 21.41c.39.39.9.59 1.41.59.51 0 1.02-.2 1.41-.59l7.78-7.78 2.81-2.81c.8-.78.8-2.07 0-2.86zM5.41 20L4 18.59l7.72-7.72 1.47 1.35L5.41 20z\"/>\n",
              "  </svg>\n",
              "      </button>\n",
              "      \n",
              "  <style>\n",
              "    .colab-df-container {\n",
              "      display:flex;\n",
              "      flex-wrap:wrap;\n",
              "      gap: 12px;\n",
              "    }\n",
              "\n",
              "    .colab-df-convert {\n",
              "      background-color: #E8F0FE;\n",
              "      border: none;\n",
              "      border-radius: 50%;\n",
              "      cursor: pointer;\n",
              "      display: none;\n",
              "      fill: #1967D2;\n",
              "      height: 32px;\n",
              "      padding: 0 0 0 0;\n",
              "      width: 32px;\n",
              "    }\n",
              "\n",
              "    .colab-df-convert:hover {\n",
              "      background-color: #E2EBFA;\n",
              "      box-shadow: 0px 1px 2px rgba(60, 64, 67, 0.3), 0px 1px 3px 1px rgba(60, 64, 67, 0.15);\n",
              "      fill: #174EA6;\n",
              "    }\n",
              "\n",
              "    [theme=dark] .colab-df-convert {\n",
              "      background-color: #3B4455;\n",
              "      fill: #D2E3FC;\n",
              "    }\n",
              "\n",
              "    [theme=dark] .colab-df-convert:hover {\n",
              "      background-color: #434B5C;\n",
              "      box-shadow: 0px 1px 3px 1px rgba(0, 0, 0, 0.15);\n",
              "      filter: drop-shadow(0px 1px 2px rgba(0, 0, 0, 0.3));\n",
              "      fill: #FFFFFF;\n",
              "    }\n",
              "  </style>\n",
              "\n",
              "      <script>\n",
              "        const buttonEl =\n",
              "          document.querySelector('#df-4fa0418a-cc34-40b8-a972-2a033e8fc157 button.colab-df-convert');\n",
              "        buttonEl.style.display =\n",
              "          google.colab.kernel.accessAllowed ? 'block' : 'none';\n",
              "\n",
              "        async function convertToInteractive(key) {\n",
              "          const element = document.querySelector('#df-4fa0418a-cc34-40b8-a972-2a033e8fc157');\n",
              "          const dataTable =\n",
              "            await google.colab.kernel.invokeFunction('convertToInteractive',\n",
              "                                                     [key], {});\n",
              "          if (!dataTable) return;\n",
              "\n",
              "          const docLinkHtml = 'Like what you see? Visit the ' +\n",
              "            '<a target=\"_blank\" href=https://colab.research.google.com/notebooks/data_table.ipynb>data table notebook</a>'\n",
              "            + ' to learn more about interactive tables.';\n",
              "          element.innerHTML = '';\n",
              "          dataTable['output_type'] = 'display_data';\n",
              "          await google.colab.output.renderOutput(dataTable, element);\n",
              "          const docLink = document.createElement('div');\n",
              "          docLink.innerHTML = docLinkHtml;\n",
              "          element.appendChild(docLink);\n",
              "        }\n",
              "      </script>\n",
              "    </div>\n",
              "  </div>\n",
              "  "
            ]
          },
          "metadata": {},
          "execution_count": 789
        }
      ]
    },
    {
      "cell_type": "code",
      "source": [
        "df_anova = df1[['petal_width','species']]\n",
        "df_anova"
      ],
      "metadata": {
        "colab": {
          "base_uri": "https://localhost:8080/",
          "height": 423
        },
        "id": "FKddh6uujkqE",
        "outputId": "2d493a5b-f71a-4de5-b11f-60111deb69cb"
      },
      "execution_count": 790,
      "outputs": [
        {
          "output_type": "execute_result",
          "data": {
            "text/plain": [
              "     petal_width    species\n",
              "0            0.2     setosa\n",
              "1            0.2     setosa\n",
              "2            0.2     setosa\n",
              "3            0.2     setosa\n",
              "4            0.2     setosa\n",
              "..           ...        ...\n",
              "145          2.3  virginica\n",
              "146          1.9  virginica\n",
              "147          2.0  virginica\n",
              "148          2.3  virginica\n",
              "149          1.8  virginica\n",
              "\n",
              "[150 rows x 2 columns]"
            ],
            "text/html": [
              "\n",
              "  <div id=\"df-0b84e529-52f9-445d-82cb-91cacb5e7587\">\n",
              "    <div class=\"colab-df-container\">\n",
              "      <div>\n",
              "<style scoped>\n",
              "    .dataframe tbody tr th:only-of-type {\n",
              "        vertical-align: middle;\n",
              "    }\n",
              "\n",
              "    .dataframe tbody tr th {\n",
              "        vertical-align: top;\n",
              "    }\n",
              "\n",
              "    .dataframe thead th {\n",
              "        text-align: right;\n",
              "    }\n",
              "</style>\n",
              "<table border=\"1\" class=\"dataframe\">\n",
              "  <thead>\n",
              "    <tr style=\"text-align: right;\">\n",
              "      <th></th>\n",
              "      <th>petal_width</th>\n",
              "      <th>species</th>\n",
              "    </tr>\n",
              "  </thead>\n",
              "  <tbody>\n",
              "    <tr>\n",
              "      <th>0</th>\n",
              "      <td>0.2</td>\n",
              "      <td>setosa</td>\n",
              "    </tr>\n",
              "    <tr>\n",
              "      <th>1</th>\n",
              "      <td>0.2</td>\n",
              "      <td>setosa</td>\n",
              "    </tr>\n",
              "    <tr>\n",
              "      <th>2</th>\n",
              "      <td>0.2</td>\n",
              "      <td>setosa</td>\n",
              "    </tr>\n",
              "    <tr>\n",
              "      <th>3</th>\n",
              "      <td>0.2</td>\n",
              "      <td>setosa</td>\n",
              "    </tr>\n",
              "    <tr>\n",
              "      <th>4</th>\n",
              "      <td>0.2</td>\n",
              "      <td>setosa</td>\n",
              "    </tr>\n",
              "    <tr>\n",
              "      <th>...</th>\n",
              "      <td>...</td>\n",
              "      <td>...</td>\n",
              "    </tr>\n",
              "    <tr>\n",
              "      <th>145</th>\n",
              "      <td>2.3</td>\n",
              "      <td>virginica</td>\n",
              "    </tr>\n",
              "    <tr>\n",
              "      <th>146</th>\n",
              "      <td>1.9</td>\n",
              "      <td>virginica</td>\n",
              "    </tr>\n",
              "    <tr>\n",
              "      <th>147</th>\n",
              "      <td>2.0</td>\n",
              "      <td>virginica</td>\n",
              "    </tr>\n",
              "    <tr>\n",
              "      <th>148</th>\n",
              "      <td>2.3</td>\n",
              "      <td>virginica</td>\n",
              "    </tr>\n",
              "    <tr>\n",
              "      <th>149</th>\n",
              "      <td>1.8</td>\n",
              "      <td>virginica</td>\n",
              "    </tr>\n",
              "  </tbody>\n",
              "</table>\n",
              "<p>150 rows × 2 columns</p>\n",
              "</div>\n",
              "      <button class=\"colab-df-convert\" onclick=\"convertToInteractive('df-0b84e529-52f9-445d-82cb-91cacb5e7587')\"\n",
              "              title=\"Convert this dataframe to an interactive table.\"\n",
              "              style=\"display:none;\">\n",
              "        \n",
              "  <svg xmlns=\"http://www.w3.org/2000/svg\" height=\"24px\"viewBox=\"0 0 24 24\"\n",
              "       width=\"24px\">\n",
              "    <path d=\"M0 0h24v24H0V0z\" fill=\"none\"/>\n",
              "    <path d=\"M18.56 5.44l.94 2.06.94-2.06 2.06-.94-2.06-.94-.94-2.06-.94 2.06-2.06.94zm-11 1L8.5 8.5l.94-2.06 2.06-.94-2.06-.94L8.5 2.5l-.94 2.06-2.06.94zm10 10l.94 2.06.94-2.06 2.06-.94-2.06-.94-.94-2.06-.94 2.06-2.06.94z\"/><path d=\"M17.41 7.96l-1.37-1.37c-.4-.4-.92-.59-1.43-.59-.52 0-1.04.2-1.43.59L10.3 9.45l-7.72 7.72c-.78.78-.78 2.05 0 2.83L4 21.41c.39.39.9.59 1.41.59.51 0 1.02-.2 1.41-.59l7.78-7.78 2.81-2.81c.8-.78.8-2.07 0-2.86zM5.41 20L4 18.59l7.72-7.72 1.47 1.35L5.41 20z\"/>\n",
              "  </svg>\n",
              "      </button>\n",
              "      \n",
              "  <style>\n",
              "    .colab-df-container {\n",
              "      display:flex;\n",
              "      flex-wrap:wrap;\n",
              "      gap: 12px;\n",
              "    }\n",
              "\n",
              "    .colab-df-convert {\n",
              "      background-color: #E8F0FE;\n",
              "      border: none;\n",
              "      border-radius: 50%;\n",
              "      cursor: pointer;\n",
              "      display: none;\n",
              "      fill: #1967D2;\n",
              "      height: 32px;\n",
              "      padding: 0 0 0 0;\n",
              "      width: 32px;\n",
              "    }\n",
              "\n",
              "    .colab-df-convert:hover {\n",
              "      background-color: #E2EBFA;\n",
              "      box-shadow: 0px 1px 2px rgba(60, 64, 67, 0.3), 0px 1px 3px 1px rgba(60, 64, 67, 0.15);\n",
              "      fill: #174EA6;\n",
              "    }\n",
              "\n",
              "    [theme=dark] .colab-df-convert {\n",
              "      background-color: #3B4455;\n",
              "      fill: #D2E3FC;\n",
              "    }\n",
              "\n",
              "    [theme=dark] .colab-df-convert:hover {\n",
              "      background-color: #434B5C;\n",
              "      box-shadow: 0px 1px 3px 1px rgba(0, 0, 0, 0.15);\n",
              "      filter: drop-shadow(0px 1px 2px rgba(0, 0, 0, 0.3));\n",
              "      fill: #FFFFFF;\n",
              "    }\n",
              "  </style>\n",
              "\n",
              "      <script>\n",
              "        const buttonEl =\n",
              "          document.querySelector('#df-0b84e529-52f9-445d-82cb-91cacb5e7587 button.colab-df-convert');\n",
              "        buttonEl.style.display =\n",
              "          google.colab.kernel.accessAllowed ? 'block' : 'none';\n",
              "\n",
              "        async function convertToInteractive(key) {\n",
              "          const element = document.querySelector('#df-0b84e529-52f9-445d-82cb-91cacb5e7587');\n",
              "          const dataTable =\n",
              "            await google.colab.kernel.invokeFunction('convertToInteractive',\n",
              "                                                     [key], {});\n",
              "          if (!dataTable) return;\n",
              "\n",
              "          const docLinkHtml = 'Like what you see? Visit the ' +\n",
              "            '<a target=\"_blank\" href=https://colab.research.google.com/notebooks/data_table.ipynb>data table notebook</a>'\n",
              "            + ' to learn more about interactive tables.';\n",
              "          element.innerHTML = '';\n",
              "          dataTable['output_type'] = 'display_data';\n",
              "          await google.colab.output.renderOutput(dataTable, element);\n",
              "          const docLink = document.createElement('div');\n",
              "          docLink.innerHTML = docLinkHtml;\n",
              "          element.appendChild(docLink);\n",
              "        }\n",
              "      </script>\n",
              "    </div>\n",
              "  </div>\n",
              "  "
            ]
          },
          "metadata": {},
          "execution_count": 790
        }
      ]
    },
    {
      "cell_type": "code",
      "source": [
        "grps = pd.unique(df_anova.species.values)\n",
        "grps"
      ],
      "metadata": {
        "colab": {
          "base_uri": "https://localhost:8080/"
        },
        "id": "3PR5g66ijkte",
        "outputId": "90ca7d63-0e0f-4a5e-a9e4-80f6bbd93a21"
      },
      "execution_count": 791,
      "outputs": [
        {
          "output_type": "execute_result",
          "data": {
            "text/plain": [
              "array(['setosa', 'versicolor', 'virginica'], dtype=object)"
            ]
          },
          "metadata": {},
          "execution_count": 791
        }
      ]
    },
    {
      "cell_type": "code",
      "source": [
        "df_anova['petal_width']"
      ],
      "metadata": {
        "colab": {
          "base_uri": "https://localhost:8080/"
        },
        "id": "Lp52iAM_pwIe",
        "outputId": "fdbf6628-78c0-4998-f709-7e9fecc2afb9"
      },
      "execution_count": 792,
      "outputs": [
        {
          "output_type": "execute_result",
          "data": {
            "text/plain": [
              "0      0.2\n",
              "1      0.2\n",
              "2      0.2\n",
              "3      0.2\n",
              "4      0.2\n",
              "      ... \n",
              "145    2.3\n",
              "146    1.9\n",
              "147    2.0\n",
              "148    2.3\n",
              "149    1.8\n",
              "Name: petal_width, Length: 150, dtype: float64"
            ]
          },
          "metadata": {},
          "execution_count": 792
        }
      ]
    },
    {
      "cell_type": "code",
      "source": [
        "#this code is of grouping the data\n",
        "d_data = {grp:df_anova['petal_width'][df_anova.species == grp] for grp in grps}"
      ],
      "metadata": {
        "id": "uqssxUL5jkzb"
      },
      "execution_count": 793,
      "outputs": []
    },
    {
      "cell_type": "code",
      "source": [
        "d_data"
      ],
      "metadata": {
        "colab": {
          "base_uri": "https://localhost:8080/"
        },
        "id": "XEFP4dyEjx08",
        "outputId": "d6fd1faf-0386-43b7-ef2e-3e80a733858f"
      },
      "execution_count": 794,
      "outputs": [
        {
          "output_type": "execute_result",
          "data": {
            "text/plain": [
              "{'setosa': 0     0.2\n",
              " 1     0.2\n",
              " 2     0.2\n",
              " 3     0.2\n",
              " 4     0.2\n",
              " 5     0.4\n",
              " 6     0.3\n",
              " 7     0.2\n",
              " 8     0.2\n",
              " 9     0.1\n",
              " 10    0.2\n",
              " 11    0.2\n",
              " 12    0.1\n",
              " 13    0.1\n",
              " 14    0.2\n",
              " 15    0.4\n",
              " 16    0.4\n",
              " 17    0.3\n",
              " 18    0.3\n",
              " 19    0.3\n",
              " 20    0.2\n",
              " 21    0.4\n",
              " 22    0.2\n",
              " 23    0.5\n",
              " 24    0.2\n",
              " 25    0.2\n",
              " 26    0.4\n",
              " 27    0.2\n",
              " 28    0.2\n",
              " 29    0.2\n",
              " 30    0.2\n",
              " 31    0.4\n",
              " 32    0.1\n",
              " 33    0.2\n",
              " 34    0.2\n",
              " 35    0.2\n",
              " 36    0.2\n",
              " 37    0.1\n",
              " 38    0.2\n",
              " 39    0.2\n",
              " 40    0.3\n",
              " 41    0.3\n",
              " 42    0.2\n",
              " 43    0.6\n",
              " 44    0.4\n",
              " 45    0.3\n",
              " 46    0.2\n",
              " 47    0.2\n",
              " 48    0.2\n",
              " 49    0.2\n",
              " Name: petal_width, dtype: float64, 'versicolor': 50    1.4\n",
              " 51    1.5\n",
              " 52    1.5\n",
              " 53    1.3\n",
              " 54    1.5\n",
              " 55    1.3\n",
              " 56    1.6\n",
              " 57    1.0\n",
              " 58    1.3\n",
              " 59    1.4\n",
              " 60    1.0\n",
              " 61    1.5\n",
              " 62    1.0\n",
              " 63    1.4\n",
              " 64    1.3\n",
              " 65    1.4\n",
              " 66    1.5\n",
              " 67    1.0\n",
              " 68    1.5\n",
              " 69    1.1\n",
              " 70    1.8\n",
              " 71    1.3\n",
              " 72    1.5\n",
              " 73    1.2\n",
              " 74    1.3\n",
              " 75    1.4\n",
              " 76    1.4\n",
              " 77    1.7\n",
              " 78    1.5\n",
              " 79    1.0\n",
              " 80    1.1\n",
              " 81    1.0\n",
              " 82    1.2\n",
              " 83    1.6\n",
              " 84    1.5\n",
              " 85    1.6\n",
              " 86    1.5\n",
              " 87    1.3\n",
              " 88    1.3\n",
              " 89    1.3\n",
              " 90    1.2\n",
              " 91    1.4\n",
              " 92    1.2\n",
              " 93    1.0\n",
              " 94    1.3\n",
              " 95    1.2\n",
              " 96    1.3\n",
              " 97    1.3\n",
              " 98    1.1\n",
              " 99    1.3\n",
              " Name: petal_width, dtype: float64, 'virginica': 100    2.5\n",
              " 101    1.9\n",
              " 102    2.1\n",
              " 103    1.8\n",
              " 104    2.2\n",
              " 105    2.1\n",
              " 106    1.7\n",
              " 107    1.8\n",
              " 108    1.8\n",
              " 109    2.5\n",
              " 110    2.0\n",
              " 111    1.9\n",
              " 112    2.1\n",
              " 113    2.0\n",
              " 114    2.4\n",
              " 115    2.3\n",
              " 116    1.8\n",
              " 117    2.2\n",
              " 118    2.3\n",
              " 119    1.5\n",
              " 120    2.3\n",
              " 121    2.0\n",
              " 122    2.0\n",
              " 123    1.8\n",
              " 124    2.1\n",
              " 125    1.8\n",
              " 126    1.8\n",
              " 127    1.8\n",
              " 128    2.1\n",
              " 129    1.6\n",
              " 130    1.9\n",
              " 131    2.0\n",
              " 132    2.2\n",
              " 133    1.5\n",
              " 134    1.4\n",
              " 135    2.3\n",
              " 136    2.4\n",
              " 137    1.8\n",
              " 138    1.8\n",
              " 139    2.1\n",
              " 140    2.4\n",
              " 141    2.3\n",
              " 142    1.9\n",
              " 143    2.3\n",
              " 144    2.5\n",
              " 145    2.3\n",
              " 146    1.9\n",
              " 147    2.0\n",
              " 148    2.3\n",
              " 149    1.8\n",
              " Name: petal_width, dtype: float64}"
            ]
          },
          "metadata": {},
          "execution_count": 794
        }
      ]
    },
    {
      "cell_type": "code",
      "source": [
        "F, p = stats.f_oneway(d_data['setosa'], d_data['versicolor'], d_data['virginica'])"
      ],
      "metadata": {
        "id": "BKqR8m8Kj5GL"
      },
      "execution_count": 795,
      "outputs": []
    },
    {
      "cell_type": "code",
      "source": [
        "print(p)\n"
      ],
      "metadata": {
        "colab": {
          "base_uri": "https://localhost:8080/"
        },
        "id": "i1R_rAJrj7lb",
        "outputId": "0003b319-58eb-41bf-f2db-d4ece3a6391e"
      },
      "execution_count": 796,
      "outputs": [
        {
          "output_type": "stream",
          "name": "stdout",
          "text": [
            "4.169445839443116e-85\n"
          ]
        }
      ]
    },
    {
      "cell_type": "markdown",
      "source": [
        "Ho = Means are not different in each species\\\n",
        "H1 = means are differnt is each species "
      ],
      "metadata": {
        "id": "L9AF2QkGrJbF"
      }
    },
    {
      "cell_type": "code",
      "source": [
        "if p<0.05:\n",
        "    print(\"reject null hypothesis\")\n",
        "else:\n",
        "    print(\"accept null hypothesis\")"
      ],
      "metadata": {
        "colab": {
          "base_uri": "https://localhost:8080/"
        },
        "id": "FF6jsP1cj-w9",
        "outputId": "c4ffc8de-9acc-44b7-8ebf-6a35457d81a0"
      },
      "execution_count": 797,
      "outputs": [
        {
          "output_type": "stream",
          "name": "stdout",
          "text": [
            "reject null hypothesis\n"
          ]
        }
      ]
    },
    {
      "cell_type": "markdown",
      "source": [
        "here we can say means of petal width are different in each species"
      ],
      "metadata": {
        "id": "RCTU96vkrshm"
      }
    }
  ]
}