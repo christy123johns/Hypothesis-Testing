{
  "nbformat": 4,
  "nbformat_minor": 0,
  "metadata": {
    "colab": {
      "name": "Mann Whitney U test.ipynb",
      "provenance": [],
      "collapsed_sections": []
    },
    "kernelspec": {
      "name": "python3",
      "display_name": "Python 3"
    },
    "language_info": {
      "name": "python"
    }
  },
  "cells": [
    {
      "cell_type": "markdown",
      "source": [
        "## **Mann Whitney U test**"
      ],
      "metadata": {
        "id": "EW7MbzQlOiFb"
      }
    },
    {
      "cell_type": "markdown",
      "source": [
        "The Mann-Whitney U-test, also known as the Wilcoxon rank-sum test, is a non-parametric statistic hypothesis test that is used to compare two independent samples of ordinal data. Two samples are picked at random for this test, and it is used to determine whether they come from the same population."
      ],
      "metadata": {
        "id": "KRYzZd85Oltz"
      }
    },
    {
      "cell_type": "code",
      "source": [
        "#The Python Scipy contains a method mannwhitneyu() in a module scipy.stats for this kind of test."
      ],
      "metadata": {
        "id": "6R3mrVq8Om6G"
      },
      "execution_count": 29,
      "outputs": []
    },
    {
      "cell_type": "markdown",
      "source": [
        "We already know that a Mann-Whitney test is used in situations where sample numbers are less than 30 and sample distributions are non-normal, the U test is employed to compare differences between two samples.\n",
        "\n",
        "The two-sample t-test is thought of as having a nonparametric equivalent.\n",
        "\n",
        "example: researchers want to discover if a gasoline treatment affects a vehicle’s average mpg. 15 vehicles with the fuel treatment and twelve without it are measured for mpg as a test."
      ],
      "metadata": {
        "id": "2u3aiP9tPtkE"
      }
    },
    {
      "cell_type": "markdown",
      "source": [
        "The null and alternate hypotheses used in this case of the Mann-Whitney U test are as follows:\n",
        "\n",
        "H0: The two groups’ mpgs are equal.\n",
        "HA: The two groups’ mpgs are not equivalent."
      ],
      "metadata": {
        "id": "oMACnW6iPujs"
      }
    },
    {
      "cell_type": "code",
      "source": [
        "from scipy.stats import mannwhitneyu"
      ],
      "metadata": {
        "id": "I2VDMzeNPzlM"
      },
      "execution_count": 30,
      "outputs": []
    },
    {
      "cell_type": "code",
      "source": [
        "vehicle_grp1 = [18, 17, 18, 24, 20, 23, 21, 25, 20, 24, 23, 19, 16, 14, 12]\n",
        "vehicle_grp2 = [24,17, 28, 24, 25, 21, 22, 23, 18, 27, 21, 23, 29, 28, 18]"
      ],
      "metadata": {
        "id": "bbGfbj49P22r"
      },
      "execution_count": 31,
      "outputs": []
    },
    {
      "cell_type": "code",
      "source": [
        "mannwhitneyu(vehicle_grp1, vehicle_grp2, alternative='two-sided')"
      ],
      "metadata": {
        "colab": {
          "base_uri": "https://localhost:8080/"
        },
        "id": "1zg3vtU0P5vs",
        "outputId": "3418ce87-e306-437c-cdd3-dab360250ccf"
      },
      "execution_count": 32,
      "outputs": [
        {
          "output_type": "execute_result",
          "data": {
            "text/plain": [
              "MannwhitneyuResult(statistic=60.0, pvalue=0.030308542313475045)"
            ]
          },
          "metadata": {},
          "execution_count": 32
        }
      ]
    },
    {
      "cell_type": "markdown",
      "source": [
        "p value < 0.05\n",
        "\n",
        "So we reject Ho, and accept H1\n",
        "So the two groups mpgs are not equal."
      ],
      "metadata": {
        "id": "FoXt3nt7QMrs"
      }
    }
  ]
}