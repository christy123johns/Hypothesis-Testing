{
  "nbformat": 4,
  "nbformat_minor": 0,
  "metadata": {
    "colab": {
      "name": "Mann Whitney U test_Example 2.ipynb",
      "provenance": [],
      "collapsed_sections": []
    },
    "kernelspec": {
      "name": "python3",
      "display_name": "Python 3"
    },
    "language_info": {
      "name": "python"
    }
  },
  "cells": [
    {
      "cell_type": "markdown",
      "source": [
        "## **Mann Whitney U test**"
      ],
      "metadata": {
        "id": "EW7MbzQlOiFb"
      }
    },
    {
      "cell_type": "markdown",
      "source": [
        "### **Another Example for Mann whitney u test**"
      ],
      "metadata": {
        "id": "50tE0MDgRsF7"
      }
    },
    {
      "cell_type": "markdown",
      "source": [
        "To determine whether there is a statistically significant difference between the diagnostic ages of males and females, we employ the Mann-Whitney U test. \n",
        "\n",
        "Ho :The distribution of male diagnostic ages match the distribution of female diagnosis ages"
      ],
      "metadata": {
        "id": "MoFRZ8QGR-3j"
      }
    },
    {
      "cell_type": "code",
      "source": [
        "men = [24,19,16,22,29]\n",
        "women = [12,20,17,11]"
      ],
      "metadata": {
        "id": "pKVZq3rHRNFk"
      },
      "execution_count": 42,
      "outputs": []
    },
    {
      "cell_type": "code",
      "source": [
        "from scipy import stats\n",
        "stat, p_value = stats.mannwhitneyu(men,women)\n",
        "print(stat)\n",
        "print(p_value)"
      ],
      "metadata": {
        "colab": {
          "base_uri": "https://localhost:8080/"
        },
        "id": "z4uMlkdwRPlM",
        "outputId": "8f2da0c7-c613-4ec4-a3c2-7bd6c4193cd9"
      },
      "execution_count": 43,
      "outputs": [
        {
          "output_type": "stream",
          "name": "stdout",
          "text": [
            "17.0\n",
            "0.1111111111111111\n"
          ]
        }
      ]
    },
    {
      "cell_type": "markdown",
      "source": [
        "p value is > 0.05 so we Accept Ho, so The distribution of male diagnostic ages match the distribution of female diagnosis ages "
      ],
      "metadata": {
        "id": "n-1be6oCSHK9"
      }
    }
  ]
}