{
  "nbformat": 4,
  "nbformat_minor": 0,
  "metadata": {
    "colab": {
      "name": "Paired_Ttest.ipynb",
      "provenance": []
    },
    "kernelspec": {
      "name": "python3",
      "display_name": "Python 3"
    },
    "language_info": {
      "name": "python"
    }
  },
  "cells": [
    {
      "cell_type": "markdown",
      "source": [
        "## **Hypothesis Testing**"
      ],
      "metadata": {
        "id": "OisAYYTJuMGN"
      }
    },
    {
      "cell_type": "code",
      "source": [
        "#packages\n",
        "import pandas as pd\n",
        "import numpy as np\n",
        "from scipy import stats\n",
        "import statsmodels.api as sm"
      ],
      "metadata": {
        "id": "KxjkbrsLuR5f"
      },
      "execution_count": 88,
      "outputs": []
    },
    {
      "cell_type": "code",
      "source": [
        "import scipy\n",
        "scipy.__version__"
      ],
      "metadata": {
        "colab": {
          "base_uri": "https://localhost:8080/",
          "height": 36
        },
        "id": "61EXSGLlvDp5",
        "outputId": "c2039803-8b2b-42b1-ba6d-df063f25995c"
      },
      "execution_count": 89,
      "outputs": [
        {
          "output_type": "execute_result",
          "data": {
            "text/plain": [
              "'1.7.3'"
            ],
            "application/vnd.google.colaboratory.intrinsic+json": {
              "type": "string"
            }
          },
          "metadata": {},
          "execution_count": 89
        }
      ]
    },
    {
      "cell_type": "markdown",
      "source": [
        "## **T Test**\n",
        "A t-test is a type of inferential statistic which is used to determine if there is a significant difference between the means of two groups which may be related in certain features\n",
        "\n",
        "T-test has 2 types : 1. one sampled t-test 2. two-sampled t-test."
      ],
      "metadata": {
        "id": "p6kjkdorAF1l"
      }
    },
    {
      "cell_type": "markdown",
      "source": [
        "\n",
        "\n",
        "1.   ttest_1samp - Calculates the T-test for the mean of ONE group of scores.\n",
        "2.   ttest_ind - Calculates the T-test for the means of TWO INDEPENDENT samples of scores. \n",
        "3.   ttest_rel - Calculates the T-test on TWO RELATED samples of scores, a and b.\n",
        "\n",
        "*    Statsmodels is a Python package that allows users to explore data, estimate statistical models, and perform statistical tests. \n",
        "*    All of the statistics functions are located in the sub-package scipy. stats and a fairly complete listing of these functions can be obtained using info(stats) function.\n",
        "\n"
      ],
      "metadata": {
        "id": "eUvHF3JtJx3Q"
      }
    },
    {
      "cell_type": "code",
      "source": [
        "from scipy.stats import ttest_1samp, ttest_ind, ttest_rel"
      ],
      "metadata": {
        "id": "uCCQDLz-J5V9"
      },
      "execution_count": 90,
      "outputs": []
    },
    {
      "cell_type": "markdown",
      "source": [
        "## **Paired T-test With Python**\n",
        "When you want to check how different samples from the same group are, you can go for a paired T-test"
      ],
      "metadata": {
        "id": "uaCxVm0MXR3r"
      }
    },
    {
      "cell_type": "code",
      "source": [
        "#weight 1 indicates the weight of kids in a school.\n",
        "#weight 2 is the weight of same kids after years.\n",
        "#in weight 2 it is added some normal values with scale 5, loc=1.25\n",
        "#in all 15 values are added the normal value\n",
        "weight1=[25,30,28,35,28,34,26,29,30,26,28,32,31,30,45]\n",
        "weight2=weight1+stats.norm.rvs(scale=5,loc=-1.25,size=15)"
      ],
      "metadata": {
        "id": "5azGFbPwXb22"
      },
      "execution_count": 91,
      "outputs": []
    },
    {
      "cell_type": "markdown",
      "source": [
        "Here we are checking weight 1 and weight 2 have and statistical differnce\n",
        "\n",
        "And to check how differnce isparticular samples are\n",
        "\n",
        "### Ho : there is no statitical differnce in weights\\\n",
        "### H1 : there is a statistical differnce in weights "
      ],
      "metadata": {
        "id": "tYMypaoKbzzr"
      }
    },
    {
      "cell_type": "code",
      "source": [
        "print(weight1)\n",
        "print(weight2)"
      ],
      "metadata": {
        "colab": {
          "base_uri": "https://localhost:8080/"
        },
        "id": "tA61m3oKcyMm",
        "outputId": "888d56ba-56f6-42f7-91fa-f90b488bcd69"
      },
      "execution_count": 92,
      "outputs": [
        {
          "output_type": "stream",
          "name": "stdout",
          "text": [
            "[25, 30, 28, 35, 28, 34, 26, 29, 30, 26, 28, 32, 31, 30, 45]\n",
            "[16.1845637  24.93234756 27.99601605 25.80095696 21.85237039 33.36380814\n",
            " 33.19646047 28.63874933 28.9100301  34.41607782 21.43952644 27.08685451\n",
            " 33.96370697 34.13369994 46.03845269]\n"
          ]
        }
      ]
    },
    {
      "cell_type": "code",
      "source": [
        "#combined all into a data frame\n",
        "weight_df=pd.DataFrame({\"weight_10\":np.array(weight1),\n",
        "                         \"weight_20\":np.array(weight2),\n",
        "                       \"weight_change\":np.array(weight2)-np.array(weight1)})"
      ],
      "metadata": {
        "id": "2Kx10JSTdA0j"
      },
      "execution_count": 93,
      "outputs": []
    },
    {
      "cell_type": "code",
      "source": [
        "weight_df"
      ],
      "metadata": {
        "colab": {
          "base_uri": "https://localhost:8080/",
          "height": 519
        },
        "id": "QXpKPNSHdA7J",
        "outputId": "6993b9d9-8d43-4d01-dff9-8e457f53b0f3"
      },
      "execution_count": 94,
      "outputs": [
        {
          "output_type": "execute_result",
          "data": {
            "text/plain": [
              "    weight_10  weight_20  weight_change\n",
              "0          25  16.184564      -8.815436\n",
              "1          30  24.932348      -5.067652\n",
              "2          28  27.996016      -0.003984\n",
              "3          35  25.800957      -9.199043\n",
              "4          28  21.852370      -6.147630\n",
              "5          34  33.363808      -0.636192\n",
              "6          26  33.196460       7.196460\n",
              "7          29  28.638749      -0.361251\n",
              "8          30  28.910030      -1.089970\n",
              "9          26  34.416078       8.416078\n",
              "10         28  21.439526      -6.560474\n",
              "11         32  27.086855      -4.913145\n",
              "12         31  33.963707       2.963707\n",
              "13         30  34.133700       4.133700\n",
              "14         45  46.038453       1.038453"
            ],
            "text/html": [
              "\n",
              "  <div id=\"df-9653277f-7979-450d-93ab-e2dc22d0a956\">\n",
              "    <div class=\"colab-df-container\">\n",
              "      <div>\n",
              "<style scoped>\n",
              "    .dataframe tbody tr th:only-of-type {\n",
              "        vertical-align: middle;\n",
              "    }\n",
              "\n",
              "    .dataframe tbody tr th {\n",
              "        vertical-align: top;\n",
              "    }\n",
              "\n",
              "    .dataframe thead th {\n",
              "        text-align: right;\n",
              "    }\n",
              "</style>\n",
              "<table border=\"1\" class=\"dataframe\">\n",
              "  <thead>\n",
              "    <tr style=\"text-align: right;\">\n",
              "      <th></th>\n",
              "      <th>weight_10</th>\n",
              "      <th>weight_20</th>\n",
              "      <th>weight_change</th>\n",
              "    </tr>\n",
              "  </thead>\n",
              "  <tbody>\n",
              "    <tr>\n",
              "      <th>0</th>\n",
              "      <td>25</td>\n",
              "      <td>16.184564</td>\n",
              "      <td>-8.815436</td>\n",
              "    </tr>\n",
              "    <tr>\n",
              "      <th>1</th>\n",
              "      <td>30</td>\n",
              "      <td>24.932348</td>\n",
              "      <td>-5.067652</td>\n",
              "    </tr>\n",
              "    <tr>\n",
              "      <th>2</th>\n",
              "      <td>28</td>\n",
              "      <td>27.996016</td>\n",
              "      <td>-0.003984</td>\n",
              "    </tr>\n",
              "    <tr>\n",
              "      <th>3</th>\n",
              "      <td>35</td>\n",
              "      <td>25.800957</td>\n",
              "      <td>-9.199043</td>\n",
              "    </tr>\n",
              "    <tr>\n",
              "      <th>4</th>\n",
              "      <td>28</td>\n",
              "      <td>21.852370</td>\n",
              "      <td>-6.147630</td>\n",
              "    </tr>\n",
              "    <tr>\n",
              "      <th>5</th>\n",
              "      <td>34</td>\n",
              "      <td>33.363808</td>\n",
              "      <td>-0.636192</td>\n",
              "    </tr>\n",
              "    <tr>\n",
              "      <th>6</th>\n",
              "      <td>26</td>\n",
              "      <td>33.196460</td>\n",
              "      <td>7.196460</td>\n",
              "    </tr>\n",
              "    <tr>\n",
              "      <th>7</th>\n",
              "      <td>29</td>\n",
              "      <td>28.638749</td>\n",
              "      <td>-0.361251</td>\n",
              "    </tr>\n",
              "    <tr>\n",
              "      <th>8</th>\n",
              "      <td>30</td>\n",
              "      <td>28.910030</td>\n",
              "      <td>-1.089970</td>\n",
              "    </tr>\n",
              "    <tr>\n",
              "      <th>9</th>\n",
              "      <td>26</td>\n",
              "      <td>34.416078</td>\n",
              "      <td>8.416078</td>\n",
              "    </tr>\n",
              "    <tr>\n",
              "      <th>10</th>\n",
              "      <td>28</td>\n",
              "      <td>21.439526</td>\n",
              "      <td>-6.560474</td>\n",
              "    </tr>\n",
              "    <tr>\n",
              "      <th>11</th>\n",
              "      <td>32</td>\n",
              "      <td>27.086855</td>\n",
              "      <td>-4.913145</td>\n",
              "    </tr>\n",
              "    <tr>\n",
              "      <th>12</th>\n",
              "      <td>31</td>\n",
              "      <td>33.963707</td>\n",
              "      <td>2.963707</td>\n",
              "    </tr>\n",
              "    <tr>\n",
              "      <th>13</th>\n",
              "      <td>30</td>\n",
              "      <td>34.133700</td>\n",
              "      <td>4.133700</td>\n",
              "    </tr>\n",
              "    <tr>\n",
              "      <th>14</th>\n",
              "      <td>45</td>\n",
              "      <td>46.038453</td>\n",
              "      <td>1.038453</td>\n",
              "    </tr>\n",
              "  </tbody>\n",
              "</table>\n",
              "</div>\n",
              "      <button class=\"colab-df-convert\" onclick=\"convertToInteractive('df-9653277f-7979-450d-93ab-e2dc22d0a956')\"\n",
              "              title=\"Convert this dataframe to an interactive table.\"\n",
              "              style=\"display:none;\">\n",
              "        \n",
              "  <svg xmlns=\"http://www.w3.org/2000/svg\" height=\"24px\"viewBox=\"0 0 24 24\"\n",
              "       width=\"24px\">\n",
              "    <path d=\"M0 0h24v24H0V0z\" fill=\"none\"/>\n",
              "    <path d=\"M18.56 5.44l.94 2.06.94-2.06 2.06-.94-2.06-.94-.94-2.06-.94 2.06-2.06.94zm-11 1L8.5 8.5l.94-2.06 2.06-.94-2.06-.94L8.5 2.5l-.94 2.06-2.06.94zm10 10l.94 2.06.94-2.06 2.06-.94-2.06-.94-.94-2.06-.94 2.06-2.06.94z\"/><path d=\"M17.41 7.96l-1.37-1.37c-.4-.4-.92-.59-1.43-.59-.52 0-1.04.2-1.43.59L10.3 9.45l-7.72 7.72c-.78.78-.78 2.05 0 2.83L4 21.41c.39.39.9.59 1.41.59.51 0 1.02-.2 1.41-.59l7.78-7.78 2.81-2.81c.8-.78.8-2.07 0-2.86zM5.41 20L4 18.59l7.72-7.72 1.47 1.35L5.41 20z\"/>\n",
              "  </svg>\n",
              "      </button>\n",
              "      \n",
              "  <style>\n",
              "    .colab-df-container {\n",
              "      display:flex;\n",
              "      flex-wrap:wrap;\n",
              "      gap: 12px;\n",
              "    }\n",
              "\n",
              "    .colab-df-convert {\n",
              "      background-color: #E8F0FE;\n",
              "      border: none;\n",
              "      border-radius: 50%;\n",
              "      cursor: pointer;\n",
              "      display: none;\n",
              "      fill: #1967D2;\n",
              "      height: 32px;\n",
              "      padding: 0 0 0 0;\n",
              "      width: 32px;\n",
              "    }\n",
              "\n",
              "    .colab-df-convert:hover {\n",
              "      background-color: #E2EBFA;\n",
              "      box-shadow: 0px 1px 2px rgba(60, 64, 67, 0.3), 0px 1px 3px 1px rgba(60, 64, 67, 0.15);\n",
              "      fill: #174EA6;\n",
              "    }\n",
              "\n",
              "    [theme=dark] .colab-df-convert {\n",
              "      background-color: #3B4455;\n",
              "      fill: #D2E3FC;\n",
              "    }\n",
              "\n",
              "    [theme=dark] .colab-df-convert:hover {\n",
              "      background-color: #434B5C;\n",
              "      box-shadow: 0px 1px 3px 1px rgba(0, 0, 0, 0.15);\n",
              "      filter: drop-shadow(0px 1px 2px rgba(0, 0, 0, 0.3));\n",
              "      fill: #FFFFFF;\n",
              "    }\n",
              "  </style>\n",
              "\n",
              "      <script>\n",
              "        const buttonEl =\n",
              "          document.querySelector('#df-9653277f-7979-450d-93ab-e2dc22d0a956 button.colab-df-convert');\n",
              "        buttonEl.style.display =\n",
              "          google.colab.kernel.accessAllowed ? 'block' : 'none';\n",
              "\n",
              "        async function convertToInteractive(key) {\n",
              "          const element = document.querySelector('#df-9653277f-7979-450d-93ab-e2dc22d0a956');\n",
              "          const dataTable =\n",
              "            await google.colab.kernel.invokeFunction('convertToInteractive',\n",
              "                                                     [key], {});\n",
              "          if (!dataTable) return;\n",
              "\n",
              "          const docLinkHtml = 'Like what you see? Visit the ' +\n",
              "            '<a target=\"_blank\" href=https://colab.research.google.com/notebooks/data_table.ipynb>data table notebook</a>'\n",
              "            + ' to learn more about interactive tables.';\n",
              "          element.innerHTML = '';\n",
              "          dataTable['output_type'] = 'display_data';\n",
              "          await google.colab.output.renderOutput(dataTable, element);\n",
              "          const docLink = document.createElement('div');\n",
              "          docLink.innerHTML = docLinkHtml;\n",
              "          element.appendChild(docLink);\n",
              "        }\n",
              "      </script>\n",
              "    </div>\n",
              "  </div>\n",
              "  "
            ]
          },
          "metadata": {},
          "execution_count": 94
        }
      ]
    },
    {
      "cell_type": "code",
      "source": [
        "#using ttest_rel code we are calculating the ttest on 2 related samples.\n",
        "\n",
        "_,p_value=stats.ttest_rel(a=weight1,b=weight2)"
      ],
      "metadata": {
        "id": "IEVItPbcdLvj"
      },
      "execution_count": 95,
      "outputs": []
    },
    {
      "cell_type": "code",
      "source": [
        "print(p_value)"
      ],
      "metadata": {
        "colab": {
          "base_uri": "https://localhost:8080/"
        },
        "id": "A-o0JSLpdLy8",
        "outputId": "7fe71d86-aac8-41a0-ee72-3015c4eae690"
      },
      "execution_count": 96,
      "outputs": [
        {
          "output_type": "stream",
          "name": "stdout",
          "text": [
            "0.3844965760393534\n"
          ]
        }
      ]
    },
    {
      "cell_type": "code",
      "source": [
        "if p_value < 0.05:   \n",
        "    print(\" we are rejecting null hypothesis\")\n",
        "else:\n",
        "    print(\"we are accepting null hypothesis\")"
      ],
      "metadata": {
        "colab": {
          "base_uri": "https://localhost:8080/"
        },
        "id": "oGKq9Z-OdL2o",
        "outputId": "d167cc48-42b7-4434-9c9c-c436139d34dd"
      },
      "execution_count": 97,
      "outputs": [
        {
          "output_type": "stream",
          "name": "stdout",
          "text": [
            "we are accepting null hypothesis\n"
          ]
        }
      ]
    },
    {
      "cell_type": "markdown",
      "source": [
        "Since there is a little bit change in the weights here the null hypothesis is Accepted,\n",
        "\n",
        "beacuse p vlue > 0.05"
      ],
      "metadata": {
        "id": "JiTgKvwQeoGi"
      }
    }
  ]
}