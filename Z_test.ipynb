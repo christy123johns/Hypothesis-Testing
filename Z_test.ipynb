{
  "nbformat": 4,
  "nbformat_minor": 0,
  "metadata": {
    "colab": {
      "name": "Z test.ipynb",
      "provenance": []
    },
    "kernelspec": {
      "name": "python3",
      "display_name": "Python 3"
    },
    "language_info": {
      "name": "python"
    }
  },
  "cells": [
    {
      "cell_type": "markdown",
      "source": [
        "### **Z Test**"
      ],
      "metadata": {
        "id": "HsK1IIECyHuY"
      }
    },
    {
      "cell_type": "markdown",
      "source": [
        "Suppose that IQ in a certain population is normally distributed with a mean =100 and std dev = 15, A resercher wants to know if a new drug affects IQ level, so he recruits 20 patients to try it and records their IQ level. Here we check To determine the new drug causes a significant differnce in IQ level.\n"
      ],
      "metadata": {
        "id": "WjwcucDcyMIY"
      }
    },
    {
      "cell_type": "code",
      "source": [
        "from statsmodels.stats.weightstats import ztest as ztest\n",
        "IQ = [88,92,94,96,97,97,97,99,99,105,109,109,109,110,112,112,113,114,115]\n",
        "ztest(IQ, value=100)\n",
        "#valu =100 is mean value\n"
      ],
      "metadata": {
        "colab": {
          "base_uri": "https://localhost:8080/"
        },
        "id": "6cIgs9_Wy-fy",
        "outputId": "6f1df73d-d6e0-48c8-a92c-e438bbf0e3e3"
      },
      "execution_count": 1,
      "outputs": [
        {
          "output_type": "stream",
          "name": "stderr",
          "text": [
            "/usr/local/lib/python3.7/dist-packages/statsmodels/tools/_testing.py:19: FutureWarning: pandas.util.testing is deprecated. Use the functions in the public API at pandas.testing instead.\n",
            "  import pandas.util.testing as tm\n"
          ]
        },
        {
          "output_type": "execute_result",
          "data": {
            "text/plain": [
              "(1.809562861588546, 0.07036360357311018)"
            ]
          },
          "metadata": {},
          "execution_count": 1
        }
      ]
    },
    {
      "cell_type": "markdown",
      "source": [
        "here the values in the result are z statistic value and p value of the result"
      ],
      "metadata": {
        "id": "eWNQZn_q1w-R"
      }
    },
    {
      "cell_type": "code",
      "source": [
        "#if mean=110\n",
        "\n",
        "ztest(IQ, value = 110)"
      ],
      "metadata": {
        "colab": {
          "base_uri": "https://localhost:8080/"
        },
        "id": "Pcj1m8lq13pZ",
        "outputId": "9d1649fb-551e-400c-9d64-4538ec87e639"
      },
      "execution_count": 2,
      "outputs": [
        {
          "output_type": "execute_result",
          "data": {
            "text/plain": [
              "(-3.3220333130655386, 0.0008936402391666658)"
            ]
          },
          "metadata": {},
          "execution_count": 2
        }
      ]
    }
  ]
}